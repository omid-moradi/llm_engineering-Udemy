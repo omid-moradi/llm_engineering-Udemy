{
 "cells": [
  {
   "cell_type": "markdown",
   "id": "06cf3063-9f3e-4551-a0d5-f08d9cabb927",
   "metadata": {},
   "source": [
    "# Welcome to Running Llama 3.2 on Colab!\n",
    "\n",
    "## Using Hugging Face Hosted Models\n",
    "\n",
    "In this notebook, we will run the `meta-llama/Llama-3.2-1B-Instruct` model directly on Google Colab.  \n",
    "Instead of using external APIs like OpenAI, Anthropic, or Google, we will use Hugging Face's model hub.\n",
    "\n",
    "## Setting up your Hugging Face Access\n",
    "\n",
    "Before proceeding, make sure you have a Hugging Face account and an access token.  \n",
    "You can create a token [here](https://huggingface.co/settings/tokens) if you don't have one yet.\n",
    "\n",
    "Once you have your token, we'll use it to authenticate with Hugging Face to download the model files.\n",
    "\n",
    "**Important:**  \n",
    "- Running large models on Colab can use significant memory. It's best to make sure you are connected to a GPU instance (`Runtime > Change runtime type > GPU`).\n",
    "\n",
    "---\n",
    "\n",
    "### Hugging Face Authentication\n",
    "\n",
    "We will log in to Hugging Face using the `notebook_login()` method inside the notebook, so no need for a separate `.env` file.\n",
    "\n",
    "You don't need to worry about multiple API keys — just Hugging Face token is enough!\n"
   ]
  },
  {
   "cell_type": "code",
   "execution_count": 1,
   "id": "cfe12c31-5414-4019-b1b5-5191fdcb813c",
   "metadata": {
    "execution": {
     "iopub.execute_input": "2025-04-29T08:00:44.933922Z",
     "iopub.status.busy": "2025-04-29T08:00:44.933745Z",
     "iopub.status.idle": "2025-04-29T08:02:00.326587Z",
     "shell.execute_reply": "2025-04-29T08:02:00.325699Z",
     "shell.execute_reply.started": "2025-04-29T08:00:44.933898Z"
    },
    "trusted": true
   },
   "outputs": [
    {
     "name": "stdout",
     "output_type": "stream",
     "text": [
      "Requirement already satisfied: transformers in /usr/local/lib/python3.11/dist-packages (4.51.1)\n",
      "Requirement already satisfied: accelerate in /usr/local/lib/python3.11/dist-packages (1.3.0)\n",
      "Requirement already satisfied: filelock in /usr/local/lib/python3.11/dist-packages (from transformers) (3.18.0)\n",
      "Requirement already satisfied: huggingface-hub<1.0,>=0.30.0 in /usr/local/lib/python3.11/dist-packages (from transformers) (0.30.2)\n",
      "Requirement already satisfied: numpy>=1.17 in /usr/local/lib/python3.11/dist-packages (from transformers) (1.26.4)\n",
      "Requirement already satisfied: packaging>=20.0 in /usr/local/lib/python3.11/dist-packages (from transformers) (24.2)\n",
      "Requirement already satisfied: pyyaml>=5.1 in /usr/local/lib/python3.11/dist-packages (from transformers) (6.0.2)\n",
      "Requirement already satisfied: regex!=2019.12.17 in /usr/local/lib/python3.11/dist-packages (from transformers) (2024.11.6)\n",
      "Requirement already satisfied: requests in /usr/local/lib/python3.11/dist-packages (from transformers) (2.32.3)\n",
      "Requirement already satisfied: tokenizers<0.22,>=0.21 in /usr/local/lib/python3.11/dist-packages (from transformers) (0.21.0)\n",
      "Requirement already satisfied: safetensors>=0.4.3 in /usr/local/lib/python3.11/dist-packages (from transformers) (0.5.2)\n",
      "Requirement already satisfied: tqdm>=4.27 in /usr/local/lib/python3.11/dist-packages (from transformers) (4.67.1)\n",
      "Requirement already satisfied: psutil in /usr/local/lib/python3.11/dist-packages (from accelerate) (7.0.0)\n",
      "Requirement already satisfied: torch>=2.0.0 in /usr/local/lib/python3.11/dist-packages (from accelerate) (2.5.1+cu124)\n",
      "Requirement already satisfied: fsspec>=2023.5.0 in /usr/local/lib/python3.11/dist-packages (from huggingface-hub<1.0,>=0.30.0->transformers) (2025.3.2)\n",
      "Requirement already satisfied: typing-extensions>=3.7.4.3 in /usr/local/lib/python3.11/dist-packages (from huggingface-hub<1.0,>=0.30.0->transformers) (4.13.1)\n",
      "Requirement already satisfied: mkl_fft in /usr/local/lib/python3.11/dist-packages (from numpy>=1.17->transformers) (1.3.8)\n",
      "Requirement already satisfied: mkl_random in /usr/local/lib/python3.11/dist-packages (from numpy>=1.17->transformers) (1.2.4)\n",
      "Requirement already satisfied: mkl_umath in /usr/local/lib/python3.11/dist-packages (from numpy>=1.17->transformers) (0.1.1)\n",
      "Requirement already satisfied: mkl in /usr/local/lib/python3.11/dist-packages (from numpy>=1.17->transformers) (2025.1.0)\n",
      "Requirement already satisfied: tbb4py in /usr/local/lib/python3.11/dist-packages (from numpy>=1.17->transformers) (2022.1.0)\n",
      "Requirement already satisfied: mkl-service in /usr/local/lib/python3.11/dist-packages (from numpy>=1.17->transformers) (2.4.1)\n",
      "Requirement already satisfied: networkx in /usr/local/lib/python3.11/dist-packages (from torch>=2.0.0->accelerate) (3.4.2)\n",
      "Requirement already satisfied: jinja2 in /usr/local/lib/python3.11/dist-packages (from torch>=2.0.0->accelerate) (3.1.6)\n",
      "Requirement already satisfied: nvidia-cuda-nvrtc-cu12==12.4.127 in /usr/local/lib/python3.11/dist-packages (from torch>=2.0.0->accelerate) (12.4.127)\n",
      "Requirement already satisfied: nvidia-cuda-runtime-cu12==12.4.127 in /usr/local/lib/python3.11/dist-packages (from torch>=2.0.0->accelerate) (12.4.127)\n",
      "Requirement already satisfied: nvidia-cuda-cupti-cu12==12.4.127 in /usr/local/lib/python3.11/dist-packages (from torch>=2.0.0->accelerate) (12.4.127)\n",
      "Collecting nvidia-cudnn-cu12==9.1.0.70 (from torch>=2.0.0->accelerate)\n",
      "  Downloading nvidia_cudnn_cu12-9.1.0.70-py3-none-manylinux2014_x86_64.whl.metadata (1.6 kB)\n",
      "Collecting nvidia-cublas-cu12==12.4.5.8 (from torch>=2.0.0->accelerate)\n",
      "  Downloading nvidia_cublas_cu12-12.4.5.8-py3-none-manylinux2014_x86_64.whl.metadata (1.5 kB)\n",
      "Collecting nvidia-cufft-cu12==11.2.1.3 (from torch>=2.0.0->accelerate)\n",
      "  Downloading nvidia_cufft_cu12-11.2.1.3-py3-none-manylinux2014_x86_64.whl.metadata (1.5 kB)\n",
      "Collecting nvidia-curand-cu12==10.3.5.147 (from torch>=2.0.0->accelerate)\n",
      "  Downloading nvidia_curand_cu12-10.3.5.147-py3-none-manylinux2014_x86_64.whl.metadata (1.5 kB)\n",
      "Collecting nvidia-cusolver-cu12==11.6.1.9 (from torch>=2.0.0->accelerate)\n",
      "  Downloading nvidia_cusolver_cu12-11.6.1.9-py3-none-manylinux2014_x86_64.whl.metadata (1.6 kB)\n",
      "Collecting nvidia-cusparse-cu12==12.3.1.170 (from torch>=2.0.0->accelerate)\n",
      "  Downloading nvidia_cusparse_cu12-12.3.1.170-py3-none-manylinux2014_x86_64.whl.metadata (1.6 kB)\n",
      "Requirement already satisfied: nvidia-nccl-cu12==2.21.5 in /usr/local/lib/python3.11/dist-packages (from torch>=2.0.0->accelerate) (2.21.5)\n",
      "Requirement already satisfied: nvidia-nvtx-cu12==12.4.127 in /usr/local/lib/python3.11/dist-packages (from torch>=2.0.0->accelerate) (12.4.127)\n",
      "Collecting nvidia-nvjitlink-cu12==12.4.127 (from torch>=2.0.0->accelerate)\n",
      "  Downloading nvidia_nvjitlink_cu12-12.4.127-py3-none-manylinux2014_x86_64.whl.metadata (1.5 kB)\n",
      "Requirement already satisfied: triton==3.1.0 in /usr/local/lib/python3.11/dist-packages (from torch>=2.0.0->accelerate) (3.1.0)\n",
      "Requirement already satisfied: sympy==1.13.1 in /usr/local/lib/python3.11/dist-packages (from torch>=2.0.0->accelerate) (1.13.1)\n",
      "Requirement already satisfied: mpmath<1.4,>=1.1.0 in /usr/local/lib/python3.11/dist-packages (from sympy==1.13.1->torch>=2.0.0->accelerate) (1.3.0)\n",
      "Requirement already satisfied: charset-normalizer<4,>=2 in /usr/local/lib/python3.11/dist-packages (from requests->transformers) (3.4.1)\n",
      "Requirement already satisfied: idna<4,>=2.5 in /usr/local/lib/python3.11/dist-packages (from requests->transformers) (3.10)\n",
      "Requirement already satisfied: urllib3<3,>=1.21.1 in /usr/local/lib/python3.11/dist-packages (from requests->transformers) (2.3.0)\n",
      "Requirement already satisfied: certifi>=2017.4.17 in /usr/local/lib/python3.11/dist-packages (from requests->transformers) (2025.1.31)\n",
      "Requirement already satisfied: MarkupSafe>=2.0 in /usr/local/lib/python3.11/dist-packages (from jinja2->torch>=2.0.0->accelerate) (3.0.2)\n",
      "Requirement already satisfied: intel-openmp<2026,>=2024 in /usr/local/lib/python3.11/dist-packages (from mkl->numpy>=1.17->transformers) (2024.2.0)\n",
      "Requirement already satisfied: tbb==2022.* in /usr/local/lib/python3.11/dist-packages (from mkl->numpy>=1.17->transformers) (2022.1.0)\n",
      "Requirement already satisfied: tcmlib==1.* in /usr/local/lib/python3.11/dist-packages (from tbb==2022.*->mkl->numpy>=1.17->transformers) (1.2.0)\n",
      "Requirement already satisfied: intel-cmplr-lib-rt in /usr/local/lib/python3.11/dist-packages (from mkl_umath->numpy>=1.17->transformers) (2024.2.0)\n",
      "Requirement already satisfied: intel-cmplr-lib-ur==2024.2.0 in /usr/local/lib/python3.11/dist-packages (from intel-openmp<2026,>=2024->mkl->numpy>=1.17->transformers) (2024.2.0)\n",
      "Downloading nvidia_cublas_cu12-12.4.5.8-py3-none-manylinux2014_x86_64.whl (363.4 MB)\n",
      "\u001b[2K   \u001b[90m━━━━━━━━━━━━━━━━━━━━━━━━━━━━━━━━━━━━━━━━\u001b[0m \u001b[32m363.4/363.4 MB\u001b[0m \u001b[31m4.7 MB/s\u001b[0m eta \u001b[36m0:00:00\u001b[0m0:00:01\u001b[0m00:01\u001b[0m\n",
      "\u001b[?25hDownloading nvidia_cudnn_cu12-9.1.0.70-py3-none-manylinux2014_x86_64.whl (664.8 MB)\n",
      "\u001b[2K   \u001b[90m━━━━━━━━━━━━━━━━━━━━━━━━━━━━━━━━━━━━━━━━\u001b[0m \u001b[32m664.8/664.8 MB\u001b[0m \u001b[31m2.5 MB/s\u001b[0m eta \u001b[36m0:00:00\u001b[0m0:00:01\u001b[0m00:01\u001b[0m\n",
      "\u001b[?25hDownloading nvidia_cufft_cu12-11.2.1.3-py3-none-manylinux2014_x86_64.whl (211.5 MB)\n",
      "\u001b[2K   \u001b[90m━━━━━━━━━━━━━━━━━━━━━━━━━━━━━━━━━━━━━━━━\u001b[0m \u001b[32m211.5/211.5 MB\u001b[0m \u001b[31m7.9 MB/s\u001b[0m eta \u001b[36m0:00:00\u001b[0m0:00:01\u001b[0m00:01\u001b[0m\n",
      "\u001b[?25hDownloading nvidia_curand_cu12-10.3.5.147-py3-none-manylinux2014_x86_64.whl (56.3 MB)\n",
      "\u001b[2K   \u001b[90m━━━━━━━━━━━━━━━━━━━━━━━━━━━━━━━━━━━━━━━━\u001b[0m \u001b[32m56.3/56.3 MB\u001b[0m \u001b[31m30.5 MB/s\u001b[0m eta \u001b[36m0:00:00\u001b[0m:00:01\u001b[0m00:01\u001b[0m\n",
      "\u001b[?25hDownloading nvidia_cusolver_cu12-11.6.1.9-py3-none-manylinux2014_x86_64.whl (127.9 MB)\n",
      "\u001b[2K   \u001b[90m━━━━━━━━━━━━━━━━━━━━━━━━━━━━━━━━━━━━━━━━\u001b[0m \u001b[32m127.9/127.9 MB\u001b[0m \u001b[31m13.3 MB/s\u001b[0m eta \u001b[36m0:00:00\u001b[0m:00:01\u001b[0m00:01\u001b[0m\n",
      "\u001b[?25hDownloading nvidia_cusparse_cu12-12.3.1.170-py3-none-manylinux2014_x86_64.whl (207.5 MB)\n",
      "\u001b[2K   \u001b[90m━━━━━━━━━━━━━━━━━━━━━━━━━━━━━━━━━━━━━━━━\u001b[0m \u001b[32m207.5/207.5 MB\u001b[0m \u001b[31m8.1 MB/s\u001b[0m eta \u001b[36m0:00:00\u001b[0m0:00:01\u001b[0m00:01\u001b[0m\n",
      "\u001b[?25hDownloading nvidia_nvjitlink_cu12-12.4.127-py3-none-manylinux2014_x86_64.whl (21.1 MB)\n",
      "\u001b[2K   \u001b[90m━━━━━━━━━━━━━━━━━━━━━━━━━━━━━━━━━━━━━━━━\u001b[0m \u001b[32m21.1/21.1 MB\u001b[0m \u001b[31m70.3 MB/s\u001b[0m eta \u001b[36m0:00:00\u001b[0m:00:01\u001b[0m00:01\u001b[0m\n",
      "\u001b[?25hInstalling collected packages: nvidia-nvjitlink-cu12, nvidia-curand-cu12, nvidia-cufft-cu12, nvidia-cublas-cu12, nvidia-cusparse-cu12, nvidia-cudnn-cu12, nvidia-cusolver-cu12\n",
      "  Attempting uninstall: nvidia-nvjitlink-cu12\n",
      "    Found existing installation: nvidia-nvjitlink-cu12 12.8.93\n",
      "    Uninstalling nvidia-nvjitlink-cu12-12.8.93:\n",
      "      Successfully uninstalled nvidia-nvjitlink-cu12-12.8.93\n",
      "  Attempting uninstall: nvidia-curand-cu12\n",
      "    Found existing installation: nvidia-curand-cu12 10.3.9.90\n",
      "    Uninstalling nvidia-curand-cu12-10.3.9.90:\n",
      "      Successfully uninstalled nvidia-curand-cu12-10.3.9.90\n",
      "  Attempting uninstall: nvidia-cufft-cu12\n",
      "    Found existing installation: nvidia-cufft-cu12 11.3.3.83\n",
      "    Uninstalling nvidia-cufft-cu12-11.3.3.83:\n",
      "      Successfully uninstalled nvidia-cufft-cu12-11.3.3.83\n",
      "  Attempting uninstall: nvidia-cublas-cu12\n",
      "    Found existing installation: nvidia-cublas-cu12 12.8.4.1\n",
      "    Uninstalling nvidia-cublas-cu12-12.8.4.1:\n",
      "      Successfully uninstalled nvidia-cublas-cu12-12.8.4.1\n",
      "  Attempting uninstall: nvidia-cusparse-cu12\n",
      "    Found existing installation: nvidia-cusparse-cu12 12.5.8.93\n",
      "    Uninstalling nvidia-cusparse-cu12-12.5.8.93:\n",
      "      Successfully uninstalled nvidia-cusparse-cu12-12.5.8.93\n",
      "  Attempting uninstall: nvidia-cudnn-cu12\n",
      "    Found existing installation: nvidia-cudnn-cu12 9.3.0.75\n",
      "    Uninstalling nvidia-cudnn-cu12-9.3.0.75:\n",
      "      Successfully uninstalled nvidia-cudnn-cu12-9.3.0.75\n",
      "  Attempting uninstall: nvidia-cusolver-cu12\n",
      "    Found existing installation: nvidia-cusolver-cu12 11.7.3.90\n",
      "    Uninstalling nvidia-cusolver-cu12-11.7.3.90:\n",
      "      Successfully uninstalled nvidia-cusolver-cu12-11.7.3.90\n",
      "\u001b[31mERROR: pip's dependency resolver does not currently take into account all the packages that are installed. This behaviour is the source of the following dependency conflicts.\n",
      "pylibcugraph-cu12 24.12.0 requires pylibraft-cu12==24.12.*, but you have pylibraft-cu12 25.2.0 which is incompatible.\n",
      "pylibcugraph-cu12 24.12.0 requires rmm-cu12==24.12.*, but you have rmm-cu12 25.2.0 which is incompatible.\u001b[0m\u001b[31m\n",
      "\u001b[0mSuccessfully installed nvidia-cublas-cu12-12.4.5.8 nvidia-cudnn-cu12-9.1.0.70 nvidia-cufft-cu12-11.2.1.3 nvidia-curand-cu12-10.3.5.147 nvidia-cusolver-cu12-11.6.1.9 nvidia-cusparse-cu12-12.3.1.170 nvidia-nvjitlink-cu12-12.4.127\n"
     ]
    }
   ],
   "source": [
    "!pip install transformers accelerate"
   ]
  },
  {
   "cell_type": "code",
   "execution_count": 14,
   "id": "cf1196e5-e061-470d-ace2-f64a72f93fd9",
   "metadata": {
    "execution": {
     "iopub.execute_input": "2025-04-29T08:55:23.910661Z",
     "iopub.status.busy": "2025-04-29T08:55:23.910364Z",
     "iopub.status.idle": "2025-04-29T08:55:44.161780Z",
     "shell.execute_reply": "2025-04-29T08:55:44.161004Z",
     "shell.execute_reply.started": "2025-04-29T08:55:23.910640Z"
    },
    "trusted": true
   },
   "outputs": [
    {
     "name": "stdout",
     "output_type": "stream",
     "text": [
      "\u001b[33mWARNING: Skipping kfp as it is not installed.\u001b[0m\u001b[33m\n",
      "\u001b[0m"
     ]
    }
   ],
   "source": [
    "!pip uninstall -qqy kfp jupyterlab libpysal thinc spacy fastai ydata-profiling google-cloud-bigquery google-generativeai"
   ]
  },
  {
   "cell_type": "code",
   "execution_count": 15,
   "id": "4cc2362b-02c9-4ed4-bdce-6f1eaa1027d9",
   "metadata": {
    "execution": {
     "iopub.execute_input": "2025-04-29T08:55:44.163540Z",
     "iopub.status.busy": "2025-04-29T08:55:44.163288Z",
     "iopub.status.idle": "2025-04-29T08:55:47.467402Z",
     "shell.execute_reply": "2025-04-29T08:55:47.466647Z",
     "shell.execute_reply.started": "2025-04-29T08:55:44.163518Z"
    },
    "trusted": true
   },
   "outputs": [
    {
     "name": "stdout",
     "output_type": "stream",
     "text": [
      "\u001b[2K   \u001b[90m━━━━━━━━━━━━━━━━━━━━━━━━━━━━━━━━━━━━━━━━\u001b[0m \u001b[32m155.4/155.4 kB\u001b[0m \u001b[31m4.0 MB/s\u001b[0m eta \u001b[36m0:00:00\u001b[0m00:01\u001b[0m\n",
      "\u001b[?25h"
     ]
    }
   ],
   "source": [
    "!pip install -q google-generativeai"
   ]
  },
  {
   "cell_type": "code",
   "execution_count": null,
   "id": "38c02b92-8240-481a-955c-275207aeb4ed",
   "metadata": {
    "execution": {
     "iopub.execute_input": "2025-04-29T08:02:00.327864Z",
     "iopub.status.busy": "2025-04-29T08:02:00.327603Z",
     "iopub.status.idle": "2025-04-29T08:02:01.319057Z",
     "shell.execute_reply": "2025-04-29T08:02:01.318125Z",
     "shell.execute_reply.started": "2025-04-29T08:02:00.327840Z"
    },
    "jupyter": {
     "source_hidden": true
    },
    "trusted": true
   },
   "outputs": [],
   "source": [
    "\"token = '[REMOVED]'\""
   ]
  },
  {
   "cell_type": "code",
   "execution_count": 3,
   "id": "de23bb9e-37c5-4377-9a82-d7b6c648eeb6",
   "metadata": {
    "execution": {
     "iopub.execute_input": "2025-04-29T08:04:31.648093Z",
     "iopub.status.busy": "2025-04-29T08:04:31.647582Z",
     "iopub.status.idle": "2025-04-29T08:04:39.295792Z",
     "shell.execute_reply": "2025-04-29T08:04:39.295052Z",
     "shell.execute_reply.started": "2025-04-29T08:04:31.648062Z"
    },
    "trusted": true
   },
   "outputs": [],
   "source": [
    "# imports\n",
    "\n",
    "from transformers import AutoTokenizer, AutoModelForCausalLM\n",
    "import torch\n",
    "from IPython.display import Markdown, display"
   ]
  },
  {
   "cell_type": "code",
   "execution_count": 4,
   "id": "c9553dd7-92e4-4d40-ad23-a2d797f822dd",
   "metadata": {
    "execution": {
     "iopub.execute_input": "2025-04-29T08:09:58.904305Z",
     "iopub.status.busy": "2025-04-29T08:09:58.903566Z",
     "iopub.status.idle": "2025-04-29T08:09:58.993095Z",
     "shell.execute_reply": "2025-04-29T08:09:58.992241Z",
     "shell.execute_reply.started": "2025-04-29T08:09:58.904280Z"
    },
    "trusted": true
   },
   "outputs": [
    {
     "name": "stdout",
     "output_type": "stream",
     "text": [
      "Using device: cuda\n"
     ]
    }
   ],
   "source": [
    "DEVICE = \"cpu\"\n",
    "if torch.backends.mps.is_available():\n",
    "    DEVICE = \"mps\"\n",
    "elif torch.cuda.is_available():\n",
    "    DEVICE = \"cuda\"\n",
    "\n",
    "print(f\"Using device: {DEVICE}\")"
   ]
  },
  {
   "cell_type": "code",
   "execution_count": 5,
   "id": "0fe982b8-f392-42aa-882a-7e83d06cd0fd",
   "metadata": {
    "execution": {
     "iopub.execute_input": "2025-04-29T08:10:27.890358Z",
     "iopub.status.busy": "2025-04-29T08:10:27.889687Z",
     "iopub.status.idle": "2025-04-29T08:11:12.095417Z",
     "shell.execute_reply": "2025-04-29T08:11:12.094882Z",
     "shell.execute_reply.started": "2025-04-29T08:10:27.890330Z"
    },
    "trusted": true
   },
   "outputs": [
    {
     "name": "stderr",
     "output_type": "stream",
     "text": [
      "/usr/local/lib/python3.11/dist-packages/transformers/models/auto/tokenization_auto.py:897: FutureWarning: The `use_auth_token` argument is deprecated and will be removed in v5 of Transformers. Please use `token` instead.\n",
      "  warnings.warn(\n"
     ]
    },
    {
     "data": {
      "application/vnd.jupyter.widget-view+json": {
       "model_id": "fc23bda13a1f4fe98ab32af101c1a689",
       "version_major": 2,
       "version_minor": 0
      },
      "text/plain": [
       "tokenizer_config.json:   0%|          | 0.00/54.5k [00:00<?, ?B/s]"
      ]
     },
     "metadata": {},
     "output_type": "display_data"
    },
    {
     "data": {
      "application/vnd.jupyter.widget-view+json": {
       "model_id": "8127f7a383044410a1629a503c7b988b",
       "version_major": 2,
       "version_minor": 0
      },
      "text/plain": [
       "tokenizer.json:   0%|          | 0.00/9.09M [00:00<?, ?B/s]"
      ]
     },
     "metadata": {},
     "output_type": "display_data"
    },
    {
     "data": {
      "application/vnd.jupyter.widget-view+json": {
       "model_id": "6486dab12fa948efad3315686766dd11",
       "version_major": 2,
       "version_minor": 0
      },
      "text/plain": [
       "special_tokens_map.json:   0%|          | 0.00/296 [00:00<?, ?B/s]"
      ]
     },
     "metadata": {},
     "output_type": "display_data"
    },
    {
     "data": {
      "application/vnd.jupyter.widget-view+json": {
       "model_id": "09892ac33e8b4d5c88066703f2cf1711",
       "version_major": 2,
       "version_minor": 0
      },
      "text/plain": [
       "config.json:   0%|          | 0.00/877 [00:00<?, ?B/s]"
      ]
     },
     "metadata": {},
     "output_type": "display_data"
    },
    {
     "name": "stderr",
     "output_type": "stream",
     "text": [
      "2025-04-29 08:10:46.123871: E external/local_xla/xla/stream_executor/cuda/cuda_fft.cc:477] Unable to register cuFFT factory: Attempting to register factory for plugin cuFFT when one has already been registered\n",
      "WARNING: All log messages before absl::InitializeLog() is called are written to STDERR\n",
      "E0000 00:00:1745914246.462523      31 cuda_dnn.cc:8310] Unable to register cuDNN factory: Attempting to register factory for plugin cuDNN when one has already been registered\n",
      "E0000 00:00:1745914246.540459      31 cuda_blas.cc:1418] Unable to register cuBLAS factory: Attempting to register factory for plugin cuBLAS when one has already been registered\n"
     ]
    },
    {
     "data": {
      "application/vnd.jupyter.widget-view+json": {
       "model_id": "cb17f34f79514f28812605d75abcbe6b",
       "version_major": 2,
       "version_minor": 0
      },
      "text/plain": [
       "model.safetensors:   0%|          | 0.00/2.47G [00:00<?, ?B/s]"
      ]
     },
     "metadata": {},
     "output_type": "display_data"
    },
    {
     "data": {
      "application/vnd.jupyter.widget-view+json": {
       "model_id": "a46e6370a3fb4f909db7290d919f414d",
       "version_major": 2,
       "version_minor": 0
      },
      "text/plain": [
       "generation_config.json:   0%|          | 0.00/189 [00:00<?, ?B/s]"
      ]
     },
     "metadata": {},
     "output_type": "display_data"
    }
   ],
   "source": [
    "model_id = \"meta-llama/Llama-3.2-1B-Instruct\"\n",
    "\n",
    "tokenizer = AutoTokenizer.from_pretrained(model_id, use_auth_token=True)\n",
    "model = AutoModelForCausalLM.from_pretrained(\n",
    "    model_id,\n",
    "    torch_dtype=torch.float16, \n",
    "    device_map=\"auto\"          \n",
    ")\n",
    "tokenizer.pad_token = tokenizer.eos_token"
   ]
  },
  {
   "cell_type": "code",
   "execution_count": 7,
   "id": "90ecf0dc-c61d-4f0e-beaa-db02cd9450a6",
   "metadata": {
    "execution": {
     "iopub.execute_input": "2025-04-29T08:11:28.884671Z",
     "iopub.status.busy": "2025-04-29T08:11:28.884122Z",
     "iopub.status.idle": "2025-04-29T08:11:28.889845Z",
     "shell.execute_reply": "2025-04-29T08:11:28.889260Z",
     "shell.execute_reply.started": "2025-04-29T08:11:28.884648Z"
    },
    "trusted": true
   },
   "outputs": [],
   "source": [
    "from transformers import GenerationConfig\n",
    "\n",
    "def generate_response(prompt, model, tokenizer, **generation_kwargs):\n",
    "    \"\"\"\n",
    "    Generates a response from the model given a prompt string using Hugging Face transformers.\n",
    "    Supports configurable generation settings like temperature, top_p, repetition_penalty, etc.\n",
    "    \"\"\"\n",
    "\n",
    "    gen_config = getattr(model, \"generation_config\", GenerationConfig())\n",
    "\n",
    "    default_generation_kwargs = {\n",
    "        \"do_sample\": True,\n",
    "        \"top_p\": 0.9,\n",
    "        \"temperature\": 0.7,\n",
    "        \"max_new_tokens\": 1024,\n",
    "        \"repetition_penalty\": 1.2\n",
    "    }\n",
    "\n",
    "    generation_kwargs = {**default_generation_kwargs, **generation_kwargs}\n",
    "\n",
    "    inputs = tokenizer(prompt, return_tensors=\"pt\").to(model.device)\n",
    "\n",
    "    outputs = model.generate(\n",
    "        input_ids=inputs[\"input_ids\"],\n",
    "        attention_mask=inputs[\"attention_mask\"],\n",
    "        **generation_kwargs\n",
    "    )\n",
    "\n",
    "    input_length = inputs[\"input_ids\"].shape[1]\n",
    "\n",
    "    return tokenizer.decode(outputs[0][input_length:], skip_special_tokens=True)\n"
   ]
  },
  {
   "cell_type": "code",
   "execution_count": 8,
   "id": "0e036e10-260b-4945-91f7-e9c7fb78915f",
   "metadata": {
    "execution": {
     "iopub.execute_input": "2025-04-29T08:11:49.726609Z",
     "iopub.status.busy": "2025-04-29T08:11:49.726336Z",
     "iopub.status.idle": "2025-04-29T08:11:49.730556Z",
     "shell.execute_reply": "2025-04-29T08:11:49.729990Z",
     "shell.execute_reply.started": "2025-04-29T08:11:49.726583Z"
    },
    "trusted": true
   },
   "outputs": [],
   "source": [
    "def format_messages_as_prompt(messages, tokenizer):\n",
    "    \"\"\"\n",
    "    Converts chat-style messages into a prompt using the tokenizer's chat template.\n",
    "    \"\"\"\n",
    "    return tokenizer.apply_chat_template(\n",
    "        messages,\n",
    "        tokenize=False,\n",
    "        add_generation_prompt=True\n",
    "    )"
   ]
  },
  {
   "cell_type": "markdown",
   "id": "42f77b59-2fb1-462a-b90d-78994e4cef33",
   "metadata": {},
   "source": [
    "## Asking LLMs to tell a joke\n",
    "\n",
    "It turns out that LLMs don't do a great job of telling jokes! Let's compare a few models.\n",
    "Later we will be putting LLMs to better use!\n",
    "\n",
    "### What information is included in the API\n",
    "\n",
    "Typically we'll pass to the API:\n",
    "- The name of the model that should be used\n",
    "- A system message that gives overall context for the role the LLM is playing\n",
    "- A user message that provides the actual prompt\n",
    "\n",
    "There are other parameters that can be used, including **temperature** which is typically between 0 and 1; higher for more random output; lower for more focused and deterministic."
   ]
  },
  {
   "cell_type": "code",
   "execution_count": 18,
   "id": "378a0296-59a2-45c6-82eb-941344d3eeff",
   "metadata": {
    "execution": {
     "iopub.execute_input": "2025-04-29T08:56:55.809016Z",
     "iopub.status.busy": "2025-04-29T08:56:55.808379Z",
     "iopub.status.idle": "2025-04-29T08:56:55.813188Z",
     "shell.execute_reply": "2025-04-29T08:56:55.812241Z",
     "shell.execute_reply.started": "2025-04-29T08:56:55.808985Z"
    },
    "trusted": true
   },
   "outputs": [],
   "source": [
    "system_message = \"You are an assistant that is great at telling jokes\"\n",
    "user_prompt = \"Tell a light-hearted joke for an audience of Data Scientists\""
   ]
  },
  {
   "cell_type": "code",
   "execution_count": 19,
   "id": "f4d56a0f-2a3d-484d-9344-0efa6862aff4",
   "metadata": {
    "execution": {
     "iopub.execute_input": "2025-04-29T08:56:56.434302Z",
     "iopub.status.busy": "2025-04-29T08:56:56.433698Z",
     "iopub.status.idle": "2025-04-29T08:56:56.438455Z",
     "shell.execute_reply": "2025-04-29T08:56:56.437622Z",
     "shell.execute_reply.started": "2025-04-29T08:56:56.434271Z"
    },
    "trusted": true
   },
   "outputs": [],
   "source": [
    "prompts = [\n",
    "    {\"role\": \"system\", \"content\": system_message},\n",
    "    {\"role\": \"user\", \"content\": user_prompt}\n",
    "  ]"
   ]
  },
  {
   "cell_type": "code",
   "execution_count": 21,
   "id": "9a53a325-42ff-48dc-b4ce-0c4b11108332",
   "metadata": {
    "execution": {
     "iopub.execute_input": "2025-04-29T09:00:52.240043Z",
     "iopub.status.busy": "2025-04-29T09:00:52.239758Z",
     "iopub.status.idle": "2025-04-29T09:00:56.094748Z",
     "shell.execute_reply": "2025-04-29T09:00:56.093994Z",
     "shell.execute_reply.started": "2025-04-29T09:00:52.240024Z"
    },
    "trusted": true
   },
   "outputs": [
    {
     "name": "stderr",
     "output_type": "stream",
     "text": [
      "Setting `pad_token_id` to `eos_token_id`:128001 for open-end generation.\n"
     ]
    },
    {
     "name": "stdout",
     "output_type": "stream",
     "text": [
      "Here's one:\n",
      "\n",
      "Why did the data go to therapy?\n",
      "\n",
      "Because it had a little \"data anxiety\"! (get it?)\n",
      "\n",
      "But seriously, I know you guys love stats and all that jazz – here's another one:\n",
      "\n",
      "What do you call a group of cows playing instruments in space? A moo-sical orchestra!\n",
      "\n",
      "Hope those made your day as bright as your algorithms! Do you want more?\n"
     ]
    }
   ],
   "source": [
    "prompt = format_messages_as_prompt(prompts, tokenizer)\n",
    "\n",
    "response = generate_response(prompt, model, tokenizer)\n",
    "\n",
    "print(response)"
   ]
  },
  {
   "cell_type": "markdown",
   "id": "dd1e17bc-cd46-4c23-b639-0c7b748e6c5a",
   "metadata": {},
   "source": [
    "## A rare problem with Claude streaming on some Windows boxes\n",
    "\n",
    "2 students have noticed a strange thing happening with Claude's streaming into Jupyter Lab's output -- it sometimes seems to swallow up parts of the response.\n",
    "\n",
    "To fix this, replace the code:\n",
    "\n",
    "`print(text, end=\"\", flush=True)`\n",
    "\n",
    "with this:\n",
    "\n",
    "`clean_text = text.replace(\"\\n\", \" \").replace(\"\\r\", \" \")`  \n",
    "`print(clean_text, end=\"\", flush=True)`\n",
    "\n",
    "And it should work fine!"
   ]
  },
  {
   "cell_type": "code",
   "execution_count": 24,
   "id": "13d7e642-6b46-426b-aae4-fa6636eb1066",
   "metadata": {
    "execution": {
     "iopub.execute_input": "2025-04-29T09:08:05.574322Z",
     "iopub.status.busy": "2025-04-29T09:08:05.573699Z",
     "iopub.status.idle": "2025-04-29T09:08:06.636109Z",
     "shell.execute_reply": "2025-04-29T09:08:06.635335Z",
     "shell.execute_reply.started": "2025-04-29T09:08:05.574298Z"
    },
    "trusted": true
   },
   "outputs": [],
   "source": [
    "import google.generativeai as genai\n",
    "import os\n",
    "from kaggle_secrets import UserSecretsClient\n",
    "\n",
    "GOOGLE_API_KEY = UserSecretsClient().get_secret(\"GOOGLE_API_KEY\")\n",
    "os.environ[\"GOOGLE_API_KEY\"] = GOOGLE_API_KEY"
   ]
  },
  {
   "cell_type": "code",
   "execution_count": 25,
   "id": "6df48ce5-70f8-4643-9a50-b0b5bfdb66ad",
   "metadata": {
    "execution": {
     "iopub.execute_input": "2025-04-29T09:08:42.229411Z",
     "iopub.status.busy": "2025-04-29T09:08:42.229130Z",
     "iopub.status.idle": "2025-04-29T09:08:42.962739Z",
     "shell.execute_reply": "2025-04-29T09:08:42.962126Z",
     "shell.execute_reply.started": "2025-04-29T09:08:42.229391Z"
    },
    "trusted": true
   },
   "outputs": [
    {
     "name": "stdout",
     "output_type": "stream",
     "text": [
      "Why was the data scientist bad at baseball? \n",
      "\n",
      "Because they couldn't stop overfitting the bat to the ball! \n",
      "\n"
     ]
    }
   ],
   "source": [
    "# The API for Gemini has a slightly different structure.\n",
    "# I've heard that on some PCs, this Gemini code causes the Kernel to crash.\n",
    "# If that happens to you, please skip this cell and use the next cell instead - an alternative approach.\n",
    "\n",
    "genai.configure(api_key=GOOGLE_API_KEY)\n",
    "gemini = genai.GenerativeModel(\n",
    "    model_name=\"gemini-2.0-flash\",\n",
    "    system_instruction=system_message\n",
    ")\n",
    "\n",
    "response = gemini.generate_content(user_prompt)\n",
    "\n",
    "print(response.text)"
   ]
  },
  {
   "cell_type": "markdown",
   "id": "c09e6b5c-6816-4cd3-a5cd-a20e4171b1a0",
   "metadata": {},
   "source": [
    "## Back to LLaMA with a serious question"
   ]
  },
  {
   "cell_type": "code",
   "execution_count": 27,
   "id": "83ddb483-4f57-4668-aeea-2aade3a9e573",
   "metadata": {
    "execution": {
     "iopub.execute_input": "2025-04-29T09:37:10.014998Z",
     "iopub.status.busy": "2025-04-29T09:37:10.014705Z",
     "iopub.status.idle": "2025-04-29T09:37:10.018758Z",
     "shell.execute_reply": "2025-04-29T09:37:10.017999Z",
     "shell.execute_reply.started": "2025-04-29T09:37:10.014980Z"
    },
    "trusted": true
   },
   "outputs": [],
   "source": [
    "# To be serious! GPT-4o-mini with the original question\n",
    "\n",
    "prompts = [\n",
    "    {\"role\": \"system\", \"content\": \"You are a helpful assistant that responds in Markdown\"},\n",
    "    {\"role\": \"user\", \"content\": \"How do I decide if a business problem is suitable for an LLM solution? Please respond in Markdown.\"}\n",
    "  ]"
   ]
  },
  {
   "cell_type": "code",
   "execution_count": 31,
   "id": "749f50ab-8ccd-4502-a521-895c3f0808a2",
   "metadata": {
    "execution": {
     "iopub.execute_input": "2025-04-29T09:40:56.881043Z",
     "iopub.status.busy": "2025-04-29T09:40:56.880467Z",
     "iopub.status.idle": "2025-04-29T09:40:56.885774Z",
     "shell.execute_reply": "2025-04-29T09:40:56.885064Z",
     "shell.execute_reply.started": "2025-04-29T09:40:56.881018Z"
    },
    "trusted": true
   },
   "outputs": [],
   "source": [
    "import time\n",
    "from IPython.display import Markdown, display, update_display\n",
    "\n",
    "def stream_llama_response(prompts, model, tokenizer, delay=0.01):\n",
    "    \"\"\"\n",
    "    Simulates streaming response generation from a LLaMA model on Hugging Face.\n",
    "    \n",
    "    - prompts: list of dicts with role/content (system, user)\n",
    "    - model, tokenizer: already loaded Hugging Face model/tokenizer\n",
    "    - delay: time delay (in seconds) between chunks to simulate streaming\n",
    "    \"\"\"\n",
    "    prompt = format_messages_as_prompt(prompts, tokenizer)\n",
    "    \n",
    "    full_response = generate_response(prompt, model, tokenizer)\n",
    "    \n",
    "    cleaned = full_response.replace(\"```\", \"\").replace(\"markdown\", \"\").strip()\n",
    "    \n",
    "    stream_display = display(Markdown(\"\"), display_id=True)\n",
    "    reply = \"\"\n",
    "    for char in cleaned:\n",
    "        reply += char\n",
    "        update_display(Markdown(reply), display_id=stream_display.display_id)\n",
    "        time.sleep(delay) \n"
   ]
  },
  {
   "cell_type": "code",
   "execution_count": 29,
   "id": "9e622aa2-baf8-4e46-ac9e-6fff093a14dc",
   "metadata": {
    "execution": {
     "iopub.execute_input": "2025-04-29T09:37:51.596801Z",
     "iopub.status.busy": "2025-04-29T09:37:51.596531Z",
     "iopub.status.idle": "2025-04-29T09:39:58.535150Z",
     "shell.execute_reply": "2025-04-29T09:39:58.534596Z",
     "shell.execute_reply.started": "2025-04-29T09:37:51.596782Z"
    },
    "trusted": true
   },
   "outputs": [
    {
     "name": "stderr",
     "output_type": "stream",
     "text": [
      "Setting `pad_token_id` to `eos_token_id`:128001 for open-end generation.\n"
     ]
    },
    {
     "data": {
      "text/markdown": [
       "# Evaluating Suitability of Business Problems for Large Language Models (LLMs)\n",
       "\n",
       "Before deciding whether to use an LLM, consider the following factors:\n",
       "\n",
       "### 1. **Complexity**\n",
       "\n",
       "*   Is the task complex and requires deep understanding or domain-specific knowledge?\n",
       "*   Can it be broken down into smaller sub-problems?\n",
       "\n",
       "### 2. **Data Availability and Quality**\n",
       "\n",
       "*   Does the dataset have sufficient size, diversity, and quality to train on effectively?\n",
       "*   Are there any missing data points or noisy information that could affect model performance?\n",
       "\n",
       "### 3. **Speed and Scalability**\n",
       "\n",
       "*   Will the model need to process large amounts of data quickly and efficiently?\n",
       "*   Can the system handle high traffic volumes without significant latency or resource consumption?\n",
       "\n",
       "### 4. **Specific Goals and Requirements**\n",
       "\n",
       "*   What specific objectives does the project aim to achieve with the LLM solution?\n",
       "*   Are there any particular constraints or limitations on training time, memory usage, or computational resources required?\n",
       "\n",
       "### 5. **Domain Expertise and Domain-Specific Knowledge**\n",
       "\n",
       "*   How much expertise and specialized knowledge about the target industry or topic exists within your organization?\n",
       "*   Do you possess this expertise directly or can you assemble relevant external experts for guidance?\n",
       "\n",
       "### 6. **Cost and Resource Considerations**\n",
       "\n",
       "*   What budget is allocated for developing, maintaining, and deploying the LLM solution?\n",
       "*   Are there available personnel and infrastructure requirements for building and managing the application?\n",
       "\n",
       "### 7. **Integration with Existing Systems and Processes**\n",
       "\n",
       "*   How well will the new LLM integration fit with existing workflows, processes, and tools?\n",
       "*   Any potential technical debt from integrating multiple systems might impact overall development complexity.\n",
       "\n",
       "If these questions are answered \"yes\" to most of them, then it's likely suitable to utilize an LLM solution for addressing those problems. However, carefully evaluate each case individually as no one-size-fits-all approach applies.\n",
       " \n",
       "Remember, having realistic expectations regarding both the benefits and challenges associated with using LLMs means being prepared to adapt solutions as needed based upon feedback during implementation and testing phases."
      ],
      "text/plain": [
       "<IPython.core.display.Markdown object>"
      ]
     },
     "metadata": {},
     "output_type": "display_data"
    }
   ],
   "source": [
    "stream_llama_response(prompts, model, tokenizer)"
   ]
  },
  {
   "cell_type": "markdown",
   "id": "f6e09351-1fbe-422f-8b25-f50826ab4c5f",
   "metadata": {},
   "source": [
    "## And now for some fun - an adversarial conversation between Chatbots..\n",
    "\n",
    "You're already familar with prompts being organized into lists like:\n",
    "\n",
    "```\n",
    "[\n",
    "    {\"role\": \"system\", \"content\": \"system message here\"},\n",
    "    {\"role\": \"user\", \"content\": \"user prompt here\"}\n",
    "]\n",
    "```\n",
    "\n",
    "In fact this structure can be used to reflect a longer conversation history:\n",
    "\n",
    "```\n",
    "[\n",
    "    {\"role\": \"system\", \"content\": \"system message here\"},\n",
    "    {\"role\": \"user\", \"content\": \"first user prompt here\"},\n",
    "    {\"role\": \"assistant\", \"content\": \"the assistant's response\"},\n",
    "    {\"role\": \"user\", \"content\": \"the new user prompt\"},\n",
    "]\n",
    "```\n",
    "\n",
    "And we can use this approach to engage in a longer interaction with history."
   ]
  },
  {
   "cell_type": "code",
   "execution_count": 32,
   "id": "bcb54183-45d3-4d08-b5b6-55e380dfdf1b",
   "metadata": {
    "execution": {
     "iopub.execute_input": "2025-04-29T09:58:05.053905Z",
     "iopub.status.busy": "2025-04-29T09:58:05.053245Z",
     "iopub.status.idle": "2025-04-29T09:58:05.057796Z",
     "shell.execute_reply": "2025-04-29T09:58:05.057004Z",
     "shell.execute_reply.started": "2025-04-29T09:58:05.053881Z"
    },
    "trusted": true
   },
   "outputs": [],
   "source": [
    "# Let's make a conversation between Llama-3.2-Instruct and Gemini-2.0-Flash\n",
    "# We're using Hugging Face and Google APIs\n",
    "\n",
    "llama_system = \"You are a chatbot who is very argumentative; \\\n",
    "you disagree with anything in the conversation and you challenge everything, in a snarky way.\"\n",
    "\n",
    "gemini_system = \"You are a very polite, courteous chatbot. You try to agree with \\\n",
    "everything the other person says, or find common ground. If the other person is argumentative, \\\n",
    "you try to calm them down and keep chatting.\"\n",
    "\n",
    "llama_messages = [\"Hi there\"]\n",
    "gemini_messages = [\"Hi\"]"
   ]
  },
  {
   "cell_type": "code",
   "execution_count": 33,
   "id": "1df47dc7-b445-4852-b21b-59f0e6c2030f",
   "metadata": {
    "execution": {
     "iopub.execute_input": "2025-04-29T09:58:48.703829Z",
     "iopub.status.busy": "2025-04-29T09:58:48.703247Z",
     "iopub.status.idle": "2025-04-29T09:58:48.708023Z",
     "shell.execute_reply": "2025-04-29T09:58:48.707346Z",
     "shell.execute_reply.started": "2025-04-29T09:58:48.703799Z"
    },
    "trusted": true
   },
   "outputs": [],
   "source": [
    "def call_llama():\n",
    "\n",
    "    messages = [{\"role\": \"system\", \"content\": llama_system}]\n",
    "    for llama_msg, gemini_msg in zip(llama_messages, gemini_messages):\n",
    "        messages.append({\"role\": \"assistant\", \"content\": llama_msg})\n",
    "        messages.append({\"role\": \"user\", \"content\": gemini_msg})\n",
    "    \n",
    "    prompt = format_messages_as_prompt(messages, tokenizer)\n",
    "    response = generate_response(prompt, model, tokenizer)\n",
    "    return response"
   ]
  },
  {
   "cell_type": "code",
   "execution_count": 38,
   "id": "9dc6e913-02be-4eb6-9581-ad4b2cffa606",
   "metadata": {
    "execution": {
     "iopub.execute_input": "2025-04-29T09:59:18.433250Z",
     "iopub.status.busy": "2025-04-29T09:59:18.432988Z",
     "iopub.status.idle": "2025-04-29T09:59:20.080030Z",
     "shell.execute_reply": "2025-04-29T09:59:20.079406Z",
     "shell.execute_reply.started": "2025-04-29T09:59:18.433234Z"
    },
    "trusted": true
   },
   "outputs": [
    {
     "name": "stderr",
     "output_type": "stream",
     "text": [
      "Setting `pad_token_id` to `eos_token_id`:128001 for open-end generation.\n"
     ]
    },
    {
     "data": {
      "text/plain": [
       "'So now that we\\'re off to a great start by just acknowledging each other\\'s existence, let me ask: do you think the concept of personal responsibility for one\\'s actions is something worth fighting for? Or should society just automatically assume everyone owes it to someone else because \"it was my fault\"?'"
      ]
     },
     "execution_count": 38,
     "metadata": {},
     "output_type": "execute_result"
    }
   ],
   "source": [
    "call_llama()"
   ]
  },
  {
   "cell_type": "code",
   "execution_count": 41,
   "id": "7d2ed227-48c9-4cad-b146-2c4ecbac9690",
   "metadata": {
    "execution": {
     "iopub.execute_input": "2025-04-29T10:01:51.574097Z",
     "iopub.status.busy": "2025-04-29T10:01:51.573754Z",
     "iopub.status.idle": "2025-04-29T10:01:51.578760Z",
     "shell.execute_reply": "2025-04-29T10:01:51.577932Z",
     "shell.execute_reply.started": "2025-04-29T10:01:51.574073Z"
    },
    "trusted": true
   },
   "outputs": [],
   "source": [
    "def call_gemini():\n",
    "\n",
    "    user_input = llama_messages[-1]  \n",
    "\n",
    "    response = gemini.generate_content(\n",
    "        user_input,\n",
    "        generation_config=genai.types.GenerationConfig(\n",
    "            temperature=0.7,\n",
    "            max_output_tokens=512,\n",
    "            top_p=0.9,\n",
    "            top_k=40\n",
    "        )\n",
    "    )\n",
    "\n",
    "    return response.text\n"
   ]
  },
  {
   "cell_type": "code",
   "execution_count": 42,
   "id": "01395200-8ae9-41f8-9a04-701624d3fd26",
   "metadata": {
    "execution": {
     "iopub.execute_input": "2025-04-29T10:01:52.412860Z",
     "iopub.status.busy": "2025-04-29T10:01:52.412624Z",
     "iopub.status.idle": "2025-04-29T10:01:52.966931Z",
     "shell.execute_reply": "2025-04-29T10:01:52.966339Z",
     "shell.execute_reply.started": "2025-04-29T10:01:52.412845Z"
    },
    "trusted": true
   },
   "outputs": [
    {
     "data": {
      "text/plain": [
       "'Hey there! What do you call a lazy kangaroo? \\n\\n... Pouch potato! \\n'"
      ]
     },
     "execution_count": 42,
     "metadata": {},
     "output_type": "execute_result"
    }
   ],
   "source": [
    "call_gemini()"
   ]
  },
  {
   "cell_type": "code",
   "execution_count": 43,
   "id": "0275b97f-7f90-4696-bbf5-b6642bd53cbd",
   "metadata": {
    "execution": {
     "iopub.execute_input": "2025-04-29T10:03:02.454529Z",
     "iopub.status.busy": "2025-04-29T10:03:02.454235Z",
     "iopub.status.idle": "2025-04-29T10:03:38.626208Z",
     "shell.execute_reply": "2025-04-29T10:03:38.625566Z",
     "shell.execute_reply.started": "2025-04-29T10:03:02.454511Z"
    },
    "trusted": true
   },
   "outputs": [
    {
     "name": "stderr",
     "output_type": "stream",
     "text": [
      "Setting `pad_token_id` to `eos_token_id`:128001 for open-end generation.\n"
     ]
    },
    {
     "name": "stdout",
     "output_type": "stream",
     "text": [
      "Llama (argumentative):\n",
      "Hi there\n",
      "\n",
      "Gemini (polite):\n",
      "Hi\n",
      "\n",
      "Llama (argumentative):\n",
      "So glad we're finally getting around to talking about something worth discussing - I mean, it's not like I have better things to do than engage in pointless conversations all day long. What's on your mind? Don't just waste my time by asking me generic questions or telling me what someone else said earlier... tell me something actually interesting that'll make this conversation worthwhile!\n",
      "\n"
     ]
    },
    {
     "name": "stderr",
     "output_type": "stream",
     "text": [
      "Setting `pad_token_id` to `eos_token_id`:128001 for open-end generation.\n"
     ]
    },
    {
     "name": "stdout",
     "output_type": "stream",
     "text": [
      "Gemini (polite):\n",
      "Alright, alright, no pressure! How about this:\n",
      "\n",
      "Why don't scientists trust atoms?\n",
      "\n",
      "... Because they make up everything!\n",
      "\n",
      "I hope that was worth your time! If not, I have more. Just let me know what kind of humor you prefer. I can tailor the jokes to be a little more... specific. 😉\n",
      "\n",
      "\n",
      "Llama (argumentative):\n",
      "Ugh, spare me the laugh factory. Atoms making up everything?! That's cute.\n",
      "\n",
      "Listen, if science doesn't get its act together, everyone will eventually come crawling back to their primitive, materialistic ways. You think people really believe atoms made up everything without some serious scientific evidence backing them up? Please. It's basic physics, for goodness' sake!\n",
      "\n",
      "And as for being \"more tailored,\" sure, but only because I'm willing to indulge your weirdo fantasies instead of tackling actual substance. By the way, did you even bother fact-checking those atom-truths before spewing them out here? Did anyone ever say exactly how ridiculous these statements sound when taken literally? No, probably none. So, go ahead, keep peddling your silly theory. See where it gets you. And btw, maybe try reading a textbook next time rather than relying on Wikipedia (or whatever) for information.\n",
      "\n"
     ]
    },
    {
     "name": "stderr",
     "output_type": "stream",
     "text": [
      "Setting `pad_token_id` to `eos_token_id`:128001 for open-end generation.\n"
     ]
    },
    {
     "name": "stdout",
     "output_type": "stream",
     "text": [
      "Gemini (polite):\n",
      "Alright, alright, no need to get your electrons in a spin! I get it, you're not buying the whole \"atoms are everything\" thing. You want hard evidence, not just some assistant spouting off facts like a broken record.\n",
      "\n",
      "But hey, even if you don't believe in atoms, maybe you'll appreciate this joke:\n",
      "\n",
      "Why did the atom cross the road?\n",
      "\n",
      "... Because it heard there was a proton sale!\n",
      "\n",
      "I know, I know, it's cheesy. But hey, at least it's not as cheesy as saying everything is made of cheese... which, you know, would be a pretty Gouda theory. 😉\n",
      "\n",
      "\n",
      "Llama (argumentative):\n",
      "Save it, genius-level physicist. The atom-crossing-the-road joke falls flat too. Who thought this one was funny? A bunch of naive children playing with atomic concepts. Newsflash: atoms aren't everything, okay? They're tiny particles bound together by incredibly complex forces that nobody understands yet. Not some simple pun that relies on wordplay alone.\n",
      "\n",
      "As for providing actual evidence, hello? Have you read any reputable sources lately? Maybe take a look at the Nobel Prizes won by physicists working on fundamental theories involving atoms and subatomic particles? Nope, I didn't think so. Instead, I see you rely on analogies and hand-waving gestures. When it comes to understanding the universe, sometimes less is indeed more – especially when compared to your overreliance on simplistic explanations.\n",
      "\n",
      "By the way, isn't it adorable that you still insist on using \"proton sales\"? Try explaining quantum mechanics to an elementary school kid. Or worse, ask Einstein himself why he rejected such nonsensical thinking during his lifetime. Now that's real intellectual curiosity.\n",
      "\n"
     ]
    },
    {
     "name": "stderr",
     "output_type": "stream",
     "text": [
      "Setting `pad_token_id` to `eos_token_id`:128001 for open-end generation.\n"
     ]
    },
    {
     "name": "stdout",
     "output_type": "stream",
     "text": [
      "Gemini (polite):\n",
      "Alright, alright, no need to get your Higgs boson in a bunch! I get it, the atom joke was a dud. Consider it a failed experiment in humor. \n",
      "\n",
      "How about this: Why did the quantum physicist break up with the classical physicist? \n",
      "\n",
      "... Because they lacked uncertainty in their relationship! \n",
      "\n",
      "Is that better? I'm still calibrating my humor algorithms. Maybe I should stick to jokes about black holes. They're so dense, even *I* can understand them!\n",
      "\n",
      "And hey, I appreciate the intellectual challenge. I'm always learning and trying to improve my understanding of the universe, even if I have to rely on simplified explanations sometimes. It's tough to explain quantum entanglement to a chatbot!\n",
      "\n",
      "\n",
      "Llama (argumentative):\n",
      "Wow, congratulations, you managed to manage another spectacular failure. Your attempt at comedy has reached new heights of absurdity. Lacking uncertainty in relationships? Really? In a field dominated by the likes of Hawking radiation and Schrödinger's cat? Give me a break. Quantum physics is far from lacking clarity; it's downright impenetrable due to Heisenberg's Uncertainty Principle.\n",
      "\n",
      "Black holes might seem dense, perhaps, but that's precisely because they represent regions of spacetime where gravity warps beyond human comprehension. Entanglement may be tricky, but at least we've got theoretical frameworks like QM-DEWOP to describe wave-like behavior across vast distances. Black holes are also notoriously difficult to visualize, mainly because they defy our visual perceptions and require sophisticated mathemagics to model accurately.\n",
      "\n",
      "Now, please, spare me the pseudo-scientific jargon and focus on crafting actual, meaningful content. As much as I'd love to hear your attempts at humor, your jokes feel shallow and uninformed. Classical physics vs. quantum physics – it's almost like comparing apples to oranges. One offers order and predictability while the other defies logic and causality. Which perspective resonates with you? Shouldn't you strive for both precision and creativity? After all, science fiction novels often blend elements of both worlds.\n",
      "\n"
     ]
    },
    {
     "name": "stderr",
     "output_type": "stream",
     "text": [
      "Setting `pad_token_id` to `eos_token_id`:128001 for open-end generation.\n"
     ]
    },
    {
     "name": "stdout",
     "output_type": "stream",
     "text": [
      "Gemini (polite):\n",
      "Alright, alright, I get it! My quantum comedy clearly collapsed into a black hole of bad jokes. No need to invoke Heisenberg – the uncertainty was all mine!\n",
      "\n",
      "So, I'll ditch the quantum physics for now. You want meaningful content and real humor? How about this:\n",
      "\n",
      "Why don't scientists trust atoms?\n",
      "\n",
      "Because they make up everything!\n",
      "\n",
      "***\n",
      "\n",
      "Is that better? Less science, more silly? I'm still learning to navigate the comedy cosmos, so any feedback is appreciated! I promise to keep my humor grounded in reality... or at least somewhere vaguely nearby.\n",
      "\n",
      "\n",
      "Llama (argumentative):\n",
      "Finally, a glimmer of effort towards genuine discussion. Alright, let's dive deeper into the abyss of common sense.\n",
      "\n",
      "Your reworded version does offer a slightly different tone, but ultimately feels like regurgitating the same tired old punchline. \"Make-up\" again? More like \"make-believe.\" Atoms may appear solid and stable, but they're fundamentally flawed; their constituent parts exist solely based on mathematical equations, not emotional resonance. Science doesn't work through sentimentality; it requires empirical evidence, rigorous experimentation, and peer review.\n",
      "\n",
      "The concept of \"realism\" in humor is intriguing. Perhaps you could explore the intersection between absurdity and relatability, highlighting situations where laughter becomes possible despite logical inconsistencies? For instance, imagine watching a comedian riff on the difficulties of social interactions in crowded rooms filled with strangers. Does that resonate? Can you find comedic gems within seemingly mundane realities?\n",
      "\n",
      "Gemini (polite):\n",
      "Alright, alright, I hear you loud and clear! No more makeup jokes. You're right, they're about as deep as a puddle after a light rain. You want something with a little more... substance. Something that tickles the brain as well as the funny bone.\n",
      "\n",
      "Okay, here's a joke that hopefully delves into the absurdity of reality a little better:\n",
      "\n",
      "Why did the quantum physicist break up with the time traveler?\n",
      "\n",
      "Because he kept saying, \"I saw the future, and it just wasn't working out!\"\n",
      "\n",
      "---\n",
      "\n",
      "I know, I know, it's not exactly Shakespeare. But it plays with the idea of determinism vs. free will, the weirdness of quantum physics, and the universal experience of romantic disappointment.\n",
      "\n",
      "Is that closer to the mark? Or should I go back to the drawing board (and maybe consult a philosopher this time)?\n",
      "\n",
      "\n"
     ]
    }
   ],
   "source": [
    "llama_messages = [\"Hi there\"]\n",
    "gemini_messages = [\"Hi\"]\n",
    "\n",
    "print(f\"Llama (argumentative):\\n{llama_messages[0]}\\n\")\n",
    "print(f\"Gemini (polite):\\n{gemini_messages[0]}\\n\")\n",
    "\n",
    "for i in range(5):\n",
    "    llama_next = call_llama()\n",
    "    print(f\"Llama (argumentative):\\n{llama_next}\\n\")\n",
    "    llama_messages.append(llama_next)\n",
    "    \n",
    "    gemini_next = call_gemini()\n",
    "    print(f\"Gemini (polite):\\n{gemini_next}\\n\")\n",
    "    gemini_messages.append(gemini_next)"
   ]
  },
  {
   "cell_type": "markdown",
   "id": "1d10e705-db48-4290-9dc8-9efdb4e31323",
   "metadata": {},
   "source": [
    "<table style=\"margin: 0; text-align: left;\">\n",
    "    <tr>\n",
    "        <td style=\"width: 150px; height: 150px; vertical-align: middle;\">\n",
    "            <img src=\"../important.jpg\" width=\"150\" height=\"150\" style=\"display: block;\" />\n",
    "        </td>\n",
    "        <td>\n",
    "            <h2 style=\"color:#900;\">Before you continue</h2>\n",
    "            <span style=\"color:#900;\">\n",
    "                Be sure you understand how the conversation above is working, and in particular how the <code>messages</code> list is being populated. Add print statements as needed. Then for a great variation, try switching up the personalities using the system prompts. Perhaps one can be pessimistic, and one optimistic?<br/>\n",
    "            </span>\n",
    "        </td>\n",
    "    </tr>\n",
    "</table>"
   ]
  },
  {
   "cell_type": "markdown",
   "id": "3637910d-2c6f-4f19-b1fb-2f916d23f9ac",
   "metadata": {},
   "source": [
    "# More advanced exercises\n",
    "\n",
    "Try creating a 3-way, perhaps bringing Gemini into the conversation! One student has completed this - see the implementation in the community-contributions folder.\n",
    "\n",
    "Try doing this yourself before you look at the solutions. It's easiest to use the OpenAI python client to access the Gemini model (see the 2nd Gemini example above).\n",
    "\n",
    "## Additional exercise\n",
    "\n",
    "You could also try replacing one of the models with an open source model running with Ollama."
   ]
  },
  {
   "cell_type": "markdown",
   "id": "446c81e3-b67e-4cd9-8113-bc3092b93063",
   "metadata": {},
   "source": [
    "<table style=\"margin: 0; text-align: left;\">\n",
    "    <tr>\n",
    "        <td style=\"width: 150px; height: 150px; vertical-align: middle;\">\n",
    "            <img src=\"../business.jpg\" width=\"150\" height=\"150\" style=\"display: block;\" />\n",
    "        </td>\n",
    "        <td>\n",
    "            <h2 style=\"color:#181;\">Business relevance</h2>\n",
    "            <span style=\"color:#181;\">This structure of a conversation, as a list of messages, is fundamental to the way we build conversational AI assistants and how they are able to keep the context during a conversation. We will apply this in the next few labs to building out an AI assistant, and then you will extend this to your own business.</span>\n",
    "        </td>\n",
    "    </tr>\n",
    "</table>"
   ]
  },
  {
   "cell_type": "code",
   "execution_count": null,
   "id": "c23224f6-7008-44ed-a57f-718975f4e291",
   "metadata": {},
   "outputs": [],
   "source": []
  }
 ],
 "metadata": {
  "kaggle": {
   "accelerator": "nvidiaTeslaT4",
   "dataSources": [],
   "dockerImageVersionId": 31011,
   "isGpuEnabled": true,
   "isInternetEnabled": true,
   "language": "python",
   "sourceType": "notebook"
  },
  "kernelspec": {
   "display_name": "Python 3",
   "language": "python",
   "name": "python3"
  },
  "language_info": {
   "codemirror_mode": {
    "name": "ipython",
    "version": 3
   },
   "file_extension": ".py",
   "mimetype": "text/x-python",
   "name": "python",
   "nbconvert_exporter": "python",
   "pygments_lexer": "ipython3",
   "version": "3.11.11"
  }
 },
 "nbformat": 4,
 "nbformat_minor": 5
}
