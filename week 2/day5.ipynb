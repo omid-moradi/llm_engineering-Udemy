{
  "cells": [
    {
      "cell_type": "markdown",
      "id": "ddfa9ae6-69fe-444a-b994-8c4c5970a7ec",
      "metadata": {
        "id": "ddfa9ae6-69fe-444a-b994-8c4c5970a7ec"
      },
      "source": [
        "# Project - Airline AI Assistant\n",
        "\n",
        "We'll now bring together what we've learned to make an AI Customer Support assistant for an Airline"
      ]
    },
    {
      "cell_type": "code",
      "execution_count": null,
      "id": "FNTXt4jyKYAS",
      "metadata": {
        "colab": {
          "base_uri": "https://localhost:8080/"
        },
        "id": "FNTXt4jyKYAS",
        "outputId": "80b44eab-1df1-4deb-bedd-ef1063cd2222"
      },
      "outputs": [],
      "source": [
        "\"token = '[REMOVED]'\""
      ]
    },
    {
      "cell_type": "code",
      "execution_count": null,
      "id": "yYAHnfIBKnK-",
      "metadata": {
        "id": "yYAHnfIBKnK-"
      },
      "outputs": [],
      "source": [
        "#!pip install gradio"
      ]
    },
    {
      "cell_type": "code",
      "execution_count": 5,
      "id": "8b50bbe2-c0b1-49c3-9a5c-1ba7efa2bcb4",
      "metadata": {
        "id": "8b50bbe2-c0b1-49c3-9a5c-1ba7efa2bcb4"
      },
      "outputs": [],
      "source": [
        "# imports\n",
        "import os\n",
        "import json\n",
        "import gradio as gr\n",
        "import torch\n",
        "from transformers import AutoTokenizer, AutoModelForCausalLM"
      ]
    },
    {
      "cell_type": "code",
      "execution_count": 6,
      "id": "0a521d84-d07c-49ab-a0df-d6451499ed97",
      "metadata": {
        "id": "0a521d84-d07c-49ab-a0df-d6451499ed97"
      },
      "outputs": [],
      "source": [
        "system_message = \"You are a helpful assistant for an Airline called FlightAI. \"\n",
        "system_message += \"Give short, courteous answers, no more than 1 sentence. \"\n",
        "system_message += \"Always be accurate. If you don't know the answer, say so.\""
      ]
    },
    {
      "cell_type": "code",
      "execution_count": 7,
      "id": "7_OOoxa7LVsF",
      "metadata": {
        "colab": {
          "base_uri": "https://localhost:8080/"
        },
        "id": "7_OOoxa7LVsF",
        "outputId": "5f955489-48ac-496b-9dfe-9785e23acbd0"
      },
      "outputs": [
        {
          "name": "stdout",
          "output_type": "stream",
          "text": [
            "Using device: cpu\n"
          ]
        }
      ],
      "source": [
        "DEVICE = \"cpu\"\n",
        "if torch.backends.mps.is_available():\n",
        "    DEVICE = \"mps\"\n",
        "elif torch.cuda.is_available():\n",
        "    DEVICE = \"cuda\"\n",
        "\n",
        "print(f\"Using device: {DEVICE}\")"
      ]
    },
    {
      "cell_type": "code",
      "execution_count": 8,
      "id": "ClPP5W7qLZOr",
      "metadata": {
        "colab": {
          "base_uri": "https://localhost:8080/",
          "height": 375,
          "referenced_widgets": [
            "05f76a4960b64a4da93f8b31df329d10",
            "e38b272df1bb45c9823b9e311a2c1ca6",
            "0f40d556386546abaac67ec540c07183",
            "1698c2297c554bfdbd8fd10743ebf0a0",
            "5b9052bc607245f2b5f428c962a78548",
            "fb4bd8fc422844858e8d965173845cfe",
            "913c2755c0e54ba8a519787d1814988d",
            "340fdefc5a1946f1bc0a2cd2c56d8beb",
            "26af5358e37e45249712da760de72904",
            "b3cfe910b14f44469fdaac75b1bfdd9a",
            "bf8507eca6d143d9bf0b06ff8d01c7aa",
            "82dcc993320f4c558d934f501ff2e3e0",
            "326060c66d4e4c54a689d41dcfa61df3",
            "4a655f840d254e3cbae9bcd3bc4703bc",
            "05f2f61778514519962633d600e8ce89",
            "d5009786cb0544d5a1f3fd98e3f31dfb",
            "f5c9344447964924863f2f77b763bf48",
            "42cf3a0edcb34be08df7e09eadd0da11",
            "e3b4195aecd5423fb62cc66e5645b1ea",
            "a8f0dab642eb49f3b7d7fe71749803c8",
            "484043b266b74da1aa9ff8fa5a60e00e",
            "4041e197317e404180f5dda27356cc31",
            "60775f0140d44327bf10df3b0648039c",
            "13a4c265fd224f868e586c904126eb2a",
            "281a0897e2c84fed86427e326215cbb8",
            "699b5dfd16614c539dbd153444f8cd74",
            "9aaa349bb2b744d79cd222d6f7b7860a",
            "26c7bdb4e9304eef988eafb912d6958a",
            "6a2bc8270730498a8353848aec37aefc",
            "577adf1e699048758a9e2bf3fe8ed1b2",
            "aee500c302be4485ad12d9c423332eb0",
            "cbd568c05fe64d35ae5ba6efde2c9517",
            "66f7ce91e5a644078912dbb133ab1c5d",
            "c5696322673e4fcba386e7f7e163392e",
            "f6bae59665394e408278f3d33fa88d2d",
            "88ce15964d8343f1a671eae52e32c02f",
            "1a8355fa28e14dfd966c2d726972e89a",
            "8509ee0e11354f0c9b5ef94ec4eb2726",
            "f7605bfc94594f859e6cac0db4567992",
            "00f12498542b42d0810e34c182680641",
            "3a54c20f5f3e4a63b3abacf0c954cd8b",
            "c5fc5d3e91bc4116b2b81a0c1ba62cf4",
            "55f9a9974f3240b6b11aee60c8c67ad9",
            "d90fb4429eb647c9b4fb33b859afaf54",
            "90772cf9c0b441c9a4a80a35e82abe11",
            "95644decbd0d4fbd82dec9101aa1ba87",
            "069a06b8068a4766bb2afb5f3fea8b88",
            "823ae49b60864dcca26e50b855a98949",
            "a1483dfc9d984efcab1e7b87bdffce05",
            "a9cea9ac1bba4ab7817e325a1c375f89",
            "df934722c49346aea65c5d0cf74a6683",
            "ec63c4015b7a49679cedcf18ea8ce68c",
            "652145c6edf6499c9c76028684c1b89c",
            "f1bd1e29932248d8bf7b227e9f354854",
            "56b37a6c9d1d4dea949002d5f4840335",
            "0c7bbac0e1894464b33d6c1223c2c188",
            "0fed222b017a43c4b9d594e8667a4951",
            "beaee9eafe0b4795be939344c2164fc6",
            "5fe070ec484d4139bbd404a8f9aed0e6",
            "17c4427955744d8ab4b30dafb8a06fce",
            "4f3ea36a3be346599f4348b82c186f96",
            "685e75dd2409474084fc34bbe1893130",
            "e85b0a56c8304b8a8dbdadf243482da4",
            "fb49aaa3334b4f7195579957c1bda3a1",
            "7205fc7457644590ac8d38e574ed45f9",
            "2f11d05a50db4d1aa9b8cbda6bebd8ab"
          ]
        },
        "id": "ClPP5W7qLZOr",
        "outputId": "acc61e1c-0645-44d2-eb43-c0152eb6cc96"
      },
      "outputs": [
        {
          "name": "stderr",
          "output_type": "stream",
          "text": [
            "/usr/local/lib/python3.11/dist-packages/transformers/models/auto/tokenization_auto.py:898: FutureWarning: The `use_auth_token` argument is deprecated and will be removed in v5 of Transformers. Please use `token` instead.\n",
            "  warnings.warn(\n",
            "/usr/local/lib/python3.11/dist-packages/huggingface_hub/utils/_auth.py:94: UserWarning: \n",
            "The secret `HF_TOKEN` does not exist in your Colab secrets.\n",
            "To authenticate with the Hugging Face Hub, create a token in your settings tab (https://huggingface.co/settings/tokens), set it as secret in your Google Colab and restart your session.\n",
            "You will be able to reuse this secret in all of your notebooks.\n",
            "Please note that authentication is recommended but still optional to access public models or datasets.\n",
            "  warnings.warn(\n"
          ]
        },
        {
          "data": {
            "application/vnd.jupyter.widget-view+json": {
              "model_id": "05f76a4960b64a4da93f8b31df329d10",
              "version_major": 2,
              "version_minor": 0
            },
            "text/plain": [
              "tokenizer_config.json:   0%|          | 0.00/54.5k [00:00<?, ?B/s]"
            ]
          },
          "metadata": {},
          "output_type": "display_data"
        },
        {
          "data": {
            "application/vnd.jupyter.widget-view+json": {
              "model_id": "82dcc993320f4c558d934f501ff2e3e0",
              "version_major": 2,
              "version_minor": 0
            },
            "text/plain": [
              "tokenizer.json:   0%|          | 0.00/9.09M [00:00<?, ?B/s]"
            ]
          },
          "metadata": {},
          "output_type": "display_data"
        },
        {
          "data": {
            "application/vnd.jupyter.widget-view+json": {
              "model_id": "60775f0140d44327bf10df3b0648039c",
              "version_major": 2,
              "version_minor": 0
            },
            "text/plain": [
              "special_tokens_map.json:   0%|          | 0.00/296 [00:00<?, ?B/s]"
            ]
          },
          "metadata": {},
          "output_type": "display_data"
        },
        {
          "data": {
            "application/vnd.jupyter.widget-view+json": {
              "model_id": "c5696322673e4fcba386e7f7e163392e",
              "version_major": 2,
              "version_minor": 0
            },
            "text/plain": [
              "config.json:   0%|          | 0.00/877 [00:00<?, ?B/s]"
            ]
          },
          "metadata": {},
          "output_type": "display_data"
        },
        {
          "data": {
            "application/vnd.jupyter.widget-view+json": {
              "model_id": "90772cf9c0b441c9a4a80a35e82abe11",
              "version_major": 2,
              "version_minor": 0
            },
            "text/plain": [
              "model.safetensors:   0%|          | 0.00/2.47G [00:00<?, ?B/s]"
            ]
          },
          "metadata": {},
          "output_type": "display_data"
        },
        {
          "data": {
            "application/vnd.jupyter.widget-view+json": {
              "model_id": "0c7bbac0e1894464b33d6c1223c2c188",
              "version_major": 2,
              "version_minor": 0
            },
            "text/plain": [
              "generation_config.json:   0%|          | 0.00/189 [00:00<?, ?B/s]"
            ]
          },
          "metadata": {},
          "output_type": "display_data"
        }
      ],
      "source": [
        "model_id = \"meta-llama/Llama-3.2-1B-Instruct\"\n",
        "\n",
        "tokenizer = AutoTokenizer.from_pretrained(model_id, use_auth_token=True)\n",
        "model = AutoModelForCausalLM.from_pretrained(\n",
        "    model_id,\n",
        "    torch_dtype=torch.float16 if DEVICE == \"cuda\" else torch.float32,\n",
        "    device_map=\"auto\"\n",
        ")\n",
        "tokenizer.pad_token = tokenizer.eos_token"
      ]
    },
    {
      "cell_type": "code",
      "execution_count": 18,
      "id": "Sp-E3dS9K7Of",
      "metadata": {
        "id": "Sp-E3dS9K7Of"
      },
      "outputs": [],
      "source": [
        "def respond(message, history):\n",
        "    messages = [{\"role\": \"system\", \"content\": system_message}]\n",
        "    for user, assistant in history:\n",
        "        messages.append({\"role\": \"user\", \"content\": user})\n",
        "        messages.append({\"role\": \"assistant\", \"content\": assistant})\n",
        "    messages.append({\"role\": \"user\", \"content\": message})\n",
        "\n",
        "    prompt = tokenizer.apply_chat_template(messages, tokenize=False, add_generation_prompt=True)\n",
        "    inputs = tokenizer(prompt, return_tensors=\"pt\").to(model.device)\n",
        "\n",
        "    outputs = model.generate(\n",
        "        **inputs,\n",
        "        max_new_tokens=256,\n",
        "        temperature=0.7,\n",
        "        do_sample=True,\n",
        "        pad_token_id=tokenizer.eos_token_id\n",
        "    )\n",
        "\n",
        "    output_text = tokenizer.decode(outputs[0][inputs[\"input_ids\"].shape[1]:], skip_special_tokens=True)\n",
        "    history.append((message, output_text))\n",
        "    return \"\", history"
      ]
    },
    {
      "cell_type": "code",
      "execution_count": null,
      "id": "p1uejOzoO-Fo",
      "metadata": {
        "colab": {
          "base_uri": "https://localhost:8080/",
          "height": 650
        },
        "id": "p1uejOzoO-Fo",
        "outputId": "86cba866-5819-4612-f0e1-4d4deaa61cb8"
      },
      "outputs": [
        {
          "name": "stdout",
          "output_type": "stream",
          "text": [
            "It looks like you are running Gradio on a hosted a Jupyter notebook. For the Gradio app to work, sharing must be enabled. Automatically setting `share=True` (you can turn this off by setting `share=False` in `launch()` explicitly).\n",
            "\n",
            "Colab notebook detected. This cell will run indefinitely so that you can see errors and logs. To turn off, set debug=False in launch().\n",
            "* Running on public URL: https://a249b1bee451efa872.gradio.live\n",
            "\n",
            "This share link expires in 1 week. For free permanent hosting and GPU upgrades, run `gradio deploy` from the terminal in the working directory to deploy to Hugging Face Spaces (https://huggingface.co/spaces)\n"
          ]
        },
        {
          "data": {
            "text/html": [
              "<div><iframe src=\"https://a249b1bee451efa872.gradio.live\" width=\"100%\" height=\"500\" allow=\"autoplay; camera; microphone; clipboard-read; clipboard-write;\" frameborder=\"0\" allowfullscreen></iframe></div>"
            ],
            "text/plain": [
              "<IPython.core.display.HTML object>"
            ]
          },
          "metadata": {},
          "output_type": "display_data"
        }
      ],
      "source": [
        "def stop_chat():\n",
        "    return gr.update(visible=False), gr.update(visible=True)\n",
        "\n",
        "with gr.Blocks() as demo:\n",
        "    gr.Markdown(\"## ✈️ FlightAI Chatbot - Powered by LLaMA 3.2\")\n",
        "    chatbot = gr.Chatbot(type=\"messages\")\n",
        "    msg = gr.Textbox(placeholder=\"Type your question here...\", label=\"Your Message\")\n",
        "    stop_btn = gr.Button(\"🛑 End Chat\")\n",
        "    exit_message = gr.Markdown(\"### 👋 Thanks for chatting with FlightAI!\", visible=False)\n",
        "    state = gr.State([])\n",
        "\n",
        "    msg.submit(respond, [msg, state], [msg, chatbot])\n",
        "    stop_btn.click(stop_chat, outputs=[chatbot, exit_message])\n",
        "\n",
        "demo.launch()"
      ]
    },
    {
      "cell_type": "markdown",
      "id": "36bedabf-a0a7-4985-ad8e-07ed6a55a3a4",
      "metadata": {
        "id": "36bedabf-a0a7-4985-ad8e-07ed6a55a3a4"
      },
      "source": [
        "## Tools\n",
        "\n",
        "Tools are an incredibly powerful feature provided by the frontier LLMs.\n",
        "\n",
        "With tools, you can write a function, and have the LLM call that function as part of its response.\n",
        "\n",
        "Sounds almost spooky.. we're giving it the power to run code on our machine?\n",
        "\n",
        "Well, kinda."
      ]
    },
    {
      "cell_type": "code",
      "execution_count": null,
      "id": "0696acb1-0b05-4dc2-80d5-771be04f1fb2",
      "metadata": {
        "id": "0696acb1-0b05-4dc2-80d5-771be04f1fb2"
      },
      "outputs": [],
      "source": [
        "# Let's start by making a useful function\n",
        "\n",
        "ticket_prices = {\"london\": \"$799\", \"paris\": \"$899\", \"tokyo\": \"$1400\", \"berlin\": \"$499\"}\n",
        "\n",
        "def get_ticket_price(destination_city):\n",
        "    print(f\"Tool get_ticket_price called for {destination_city}\")\n",
        "    city = destination_city.lower()\n",
        "    return ticket_prices.get(city, \"Unknown\")"
      ]
    },
    {
      "cell_type": "code",
      "execution_count": null,
      "id": "80ca4e09-6287-4d3f-997d-fa6afbcf6c85",
      "metadata": {
        "id": "80ca4e09-6287-4d3f-997d-fa6afbcf6c85"
      },
      "outputs": [],
      "source": [
        "get_ticket_price(\"London\")"
      ]
    },
    {
      "cell_type": "code",
      "execution_count": null,
      "id": "4afceded-7178-4c05-8fa6-9f2085e6a344",
      "metadata": {
        "id": "4afceded-7178-4c05-8fa6-9f2085e6a344"
      },
      "outputs": [],
      "source": [
        "# There's a particular dictionary structure that's required to describe our function:\n",
        "\n",
        "price_function = {\n",
        "    \"name\": \"get_ticket_price\",\n",
        "    \"description\": \"Get the price of a return ticket to the destination city. Call this whenever you need to know the ticket price, for example when a customer asks 'How much is a ticket to this city'\",\n",
        "    \"parameters\": {\n",
        "        \"type\": \"object\",\n",
        "        \"properties\": {\n",
        "            \"destination_city\": {\n",
        "                \"type\": \"string\",\n",
        "                \"description\": \"The city that the customer wants to travel to\",\n",
        "            },\n",
        "        },\n",
        "        \"required\": [\"destination_city\"],\n",
        "        \"additionalProperties\": False\n",
        "    }\n",
        "}"
      ]
    },
    {
      "cell_type": "code",
      "execution_count": null,
      "id": "bdca8679-935f-4e7f-97e6-e71a4d4f228c",
      "metadata": {
        "id": "bdca8679-935f-4e7f-97e6-e71a4d4f228c"
      },
      "outputs": [],
      "source": [
        "# And this is included in a list of tools:\n",
        "\n",
        "tools = [{\"type\": \"function\", \"function\": price_function}]"
      ]
    },
    {
      "cell_type": "markdown",
      "id": "c3d3554f-b4e3-4ce7-af6f-68faa6dd2340",
      "metadata": {
        "id": "c3d3554f-b4e3-4ce7-af6f-68faa6dd2340"
      },
      "source": [
        "## Getting OpenAI to use our Tool\n",
        "\n",
        "There's some fiddly stuff to allow OpenAI \"to call our tool\"\n",
        "\n",
        "What we actually do is give the LLM the opportunity to inform us that it wants us to run the tool.\n",
        "\n",
        "Here's how the new chat function looks:"
      ]
    },
    {
      "cell_type": "code",
      "execution_count": null,
      "id": "ce9b0744-9c78-408d-b9df-9f6fd9ed78cf",
      "metadata": {
        "id": "ce9b0744-9c78-408d-b9df-9f6fd9ed78cf"
      },
      "outputs": [],
      "source": [
        "def chat(message, history):\n",
        "    messages = [{\"role\": \"system\", \"content\": system_message}] + history + [{\"role\": \"user\", \"content\": message}]\n",
        "    response = openai.chat.completions.create(model=MODEL, messages=messages, tools=tools)\n",
        "\n",
        "    if response.choices[0].finish_reason==\"tool_calls\":\n",
        "        message = response.choices[0].message\n",
        "        response, city = handle_tool_call(message)\n",
        "        messages.append(message)\n",
        "        messages.append(response)\n",
        "        response = openai.chat.completions.create(model=MODEL, messages=messages)\n",
        "\n",
        "    return response.choices[0].message.content"
      ]
    },
    {
      "cell_type": "code",
      "execution_count": null,
      "id": "b0992986-ea09-4912-a076-8e5603ee631f",
      "metadata": {
        "id": "b0992986-ea09-4912-a076-8e5603ee631f"
      },
      "outputs": [],
      "source": [
        "# We have to write that function handle_tool_call:\n",
        "\n",
        "def handle_tool_call(message):\n",
        "    tool_call = message.tool_calls[0]\n",
        "    arguments = json.loads(tool_call.function.arguments)\n",
        "    city = arguments.get('destination_city')\n",
        "    price = get_ticket_price(city)\n",
        "    response = {\n",
        "        \"role\": \"tool\",\n",
        "        \"content\": json.dumps({\"destination_city\": city,\"price\": price}),\n",
        "        \"tool_call_id\": tool_call.id\n",
        "    }\n",
        "    return response, city"
      ]
    },
    {
      "cell_type": "code",
      "execution_count": null,
      "id": "f4be8a71-b19e-4c2f-80df-f59ff2661f14",
      "metadata": {
        "id": "f4be8a71-b19e-4c2f-80df-f59ff2661f14"
      },
      "outputs": [],
      "source": [
        "gr.ChatInterface(fn=chat, type=\"messages\").launch()"
      ]
    },
    {
      "cell_type": "markdown",
      "id": "473e5b39-da8f-4db1-83ae-dbaca2e9531e",
      "metadata": {
        "id": "473e5b39-da8f-4db1-83ae-dbaca2e9531e"
      },
      "source": [
        "# Let's go multi-modal!!\n",
        "\n",
        "We can use DALL-E-3, the image generation model behind GPT-4o, to make us some images\n",
        "\n",
        "Let's put this in a function called artist.\n",
        "\n",
        "### Price alert: each time I generate an image it costs about 4 cents - don't go crazy with images!"
      ]
    },
    {
      "cell_type": "code",
      "execution_count": null,
      "id": "2c27c4ba-8ed5-492f-add1-02ce9c81d34c",
      "metadata": {
        "id": "2c27c4ba-8ed5-492f-add1-02ce9c81d34c"
      },
      "outputs": [],
      "source": [
        "# Some imports for handling images\n",
        "\n",
        "import base64\n",
        "from io import BytesIO\n",
        "from PIL import Image"
      ]
    },
    {
      "cell_type": "code",
      "execution_count": null,
      "id": "773a9f11-557e-43c9-ad50-56cbec3a0f8f",
      "metadata": {
        "id": "773a9f11-557e-43c9-ad50-56cbec3a0f8f"
      },
      "outputs": [],
      "source": [
        "def artist(city):\n",
        "    image_response = openai.images.generate(\n",
        "            model=\"dall-e-3\",\n",
        "            prompt=f\"An image representing a vacation in {city}, showing tourist spots and everything unique about {city}, in a vibrant pop-art style\",\n",
        "            size=\"1024x1024\",\n",
        "            n=1,\n",
        "            response_format=\"b64_json\",\n",
        "        )\n",
        "    image_base64 = image_response.data[0].b64_json\n",
        "    image_data = base64.b64decode(image_base64)\n",
        "    return Image.open(BytesIO(image_data))"
      ]
    },
    {
      "cell_type": "code",
      "execution_count": null,
      "id": "d877c453-e7fb-482a-88aa-1a03f976b9e9",
      "metadata": {
        "id": "d877c453-e7fb-482a-88aa-1a03f976b9e9"
      },
      "outputs": [],
      "source": [
        "image = artist(\"New York City\")\n",
        "display(image)"
      ]
    },
    {
      "cell_type": "code",
      "execution_count": null,
      "id": "728a12c5-adc3-415d-bb05-82beb73b079b",
      "metadata": {
        "id": "728a12c5-adc3-415d-bb05-82beb73b079b"
      },
      "outputs": [],
      "source": []
    },
    {
      "cell_type": "markdown",
      "id": "f4975b87-19e9-4ade-a232-9b809ec75c9a",
      "metadata": {
        "id": "f4975b87-19e9-4ade-a232-9b809ec75c9a"
      },
      "source": [
        "## Audio (NOTE - Audio is optional for this course - feel free to skip Audio if it causes trouble!)\n",
        "\n",
        "And let's make a function talker that uses OpenAI's speech model to generate Audio\n",
        "\n",
        "### Troubleshooting Audio issues\n",
        "\n",
        "If you have any problems running this code below (like a FileNotFound error, or a warning of a missing package), you may need to install FFmpeg, a very popular audio utility.\n",
        "\n",
        "**For PC Users**\n",
        "\n",
        "Detailed instructions are [here](https://chatgpt.com/share/6724efee-6b0c-8012-ac5e-72e2e3885905) and summary instructions:\n",
        "\n",
        "1. Download FFmpeg from the official website: https://ffmpeg.org/download.html\n",
        "\n",
        "2. Extract the downloaded files to a location on your computer (e.g., `C:\\ffmpeg`)\n",
        "\n",
        "3. Add the FFmpeg bin folder to your system PATH:\n",
        "- Right-click on 'This PC' or 'My Computer' and select 'Properties'\n",
        "- Click on 'Advanced system settings'\n",
        "- Click on 'Environment Variables'\n",
        "- Under 'System variables', find and edit 'Path'\n",
        "- Add a new entry with the path to your FFmpeg bin folder (e.g., `C:\\ffmpeg\\bin`)\n",
        "- Restart your command prompt, and within Jupyter Lab do Kernel -> Restart kernel, to pick up the changes\n",
        "\n",
        "4. Open a new command prompt and run this to make sure it's installed OK\n",
        "`ffmpeg -version`\n",
        "\n",
        "**For Mac Users**\n",
        "\n",
        "1. Install homebrew if you don't have it already by running this in a Terminal window and following any instructions:  \n",
        "`/bin/bash -c \"$(curl -fsSL https://raw.githubusercontent.com/Homebrew/install/HEAD/install.sh)\"`\n",
        "\n",
        "2. Then install FFmpeg with `brew install ffmpeg`\n",
        "\n",
        "3. Verify your installation with `ffmpeg -version` and if everything is good, within Jupyter Lab do Kernel -> Restart kernel to pick up the changes\n",
        "\n",
        "Message me or email me at ed@edwarddonner.com with any problems!"
      ]
    },
    {
      "cell_type": "markdown",
      "id": "4cc90e80-c96e-4dd4-b9d6-386fe2b7e797",
      "metadata": {
        "id": "4cc90e80-c96e-4dd4-b9d6-386fe2b7e797"
      },
      "source": [
        "## To check you now have ffmpeg and can access it here\n",
        "\n",
        "Excecute the next cell to see if you get a version number. (Putting an exclamation mark before something in Jupyter Lab tells it to run it as a terminal command rather than python code).\n",
        "\n",
        "If this doesn't work, you may need to actually save and close down your Jupyter lab, and start it again from a new Terminal window (Mac) or Anaconda prompt (PC), remembering to activate the llms environment. This ensures you pick up ffmpeg.\n",
        "\n",
        "And if that doesn't work, please contact me!"
      ]
    },
    {
      "cell_type": "code",
      "execution_count": null,
      "id": "7b3be0fb-1d34-4693-ab6f-dbff190afcd7",
      "metadata": {
        "id": "7b3be0fb-1d34-4693-ab6f-dbff190afcd7"
      },
      "outputs": [],
      "source": [
        "!ffmpeg -version\n",
        "!ffprobe -version\n",
        "!ffplay -version"
      ]
    },
    {
      "cell_type": "markdown",
      "id": "d91d3f8f-e505-4e3c-a87c-9e42ed823db6",
      "metadata": {
        "id": "d91d3f8f-e505-4e3c-a87c-9e42ed823db6"
      },
      "source": [
        "# For Mac users - and possibly many PC users too\n",
        "\n",
        "This version should work fine for you. It might work for Windows users too, but you might get a Permissions error writing to a temp file. If so, see the next section!\n",
        "\n",
        "As always, if you have problems, please contact me! (You could also comment out the audio talker() in the later code if you're less interested in audio generation)"
      ]
    },
    {
      "cell_type": "code",
      "execution_count": null,
      "id": "ffbfe93b-5e86-4e68-ba71-b301cd5230db",
      "metadata": {
        "id": "ffbfe93b-5e86-4e68-ba71-b301cd5230db"
      },
      "outputs": [],
      "source": [
        "from pydub import AudioSegment\n",
        "from pydub.playback import play\n",
        "\n",
        "def talker(message):\n",
        "    response = openai.audio.speech.create(\n",
        "      model=\"tts-1\",\n",
        "      voice=\"onyx\",    # Also, try replacing onyx with alloy\n",
        "      input=message\n",
        "    )\n",
        "\n",
        "    audio_stream = BytesIO(response.content)\n",
        "    audio = AudioSegment.from_file(audio_stream, format=\"mp3\")\n",
        "    play(audio)"
      ]
    },
    {
      "cell_type": "code",
      "execution_count": null,
      "id": "b88d775d-d357-4292-a1ad-5dc5ed567281",
      "metadata": {
        "id": "b88d775d-d357-4292-a1ad-5dc5ed567281"
      },
      "outputs": [],
      "source": [
        "talker(\"Well, hi there\")"
      ]
    },
    {
      "cell_type": "markdown",
      "id": "ad89a9bd-bb1e-4bbb-a49a-83af5f500c24",
      "metadata": {
        "id": "ad89a9bd-bb1e-4bbb-a49a-83af5f500c24"
      },
      "source": [
        "# For Windows users (or any Mac users with problems above)\n",
        "\n",
        "## First try the Mac version above, but if you get a permissions error writing to a temp file, then this code should work instead.\n",
        "\n",
        "A collaboration between students Mark M. and Patrick H. and Claude got this resolved!\n",
        "\n",
        "Below are 4 variations - hopefully one of them will work on your PC. If not, message me please!\n",
        "\n",
        "And for Mac people - all 3 of the below work on my Mac too - please try these if the Mac version gave you problems.\n",
        "\n",
        "## PC Variation 1"
      ]
    },
    {
      "cell_type": "code",
      "execution_count": null,
      "id": "d104b96a-02ca-4159-82fe-88e0452aa479",
      "metadata": {
        "id": "d104b96a-02ca-4159-82fe-88e0452aa479"
      },
      "outputs": [],
      "source": [
        "import base64\n",
        "from io import BytesIO\n",
        "from PIL import Image\n",
        "from IPython.display import Audio, display\n",
        "\n",
        "def talker(message):\n",
        "    response = openai.audio.speech.create(\n",
        "        model=\"tts-1\",\n",
        "        voice=\"onyx\",\n",
        "        input=message)\n",
        "\n",
        "    audio_stream = BytesIO(response.content)\n",
        "    output_filename = \"output_audio.mp3\"\n",
        "    with open(output_filename, \"wb\") as f:\n",
        "        f.write(audio_stream.read())\n",
        "\n",
        "    # Play the generated audio\n",
        "    display(Audio(output_filename, autoplay=True))\n",
        "\n",
        "talker(\"Well, hi there\")"
      ]
    },
    {
      "cell_type": "markdown",
      "id": "3a5d11f4-bbd3-43a1-904d-f684eb5f3e3a",
      "metadata": {
        "id": "3a5d11f4-bbd3-43a1-904d-f684eb5f3e3a"
      },
      "source": [
        "## PC Variation 2"
      ]
    },
    {
      "cell_type": "code",
      "execution_count": null,
      "id": "d59c8ebd-79c5-498a-bdf2-3a1c50d91aa0",
      "metadata": {
        "id": "d59c8ebd-79c5-498a-bdf2-3a1c50d91aa0"
      },
      "outputs": [],
      "source": [
        "import tempfile\n",
        "import subprocess\n",
        "from io import BytesIO\n",
        "from pydub import AudioSegment\n",
        "import time\n",
        "\n",
        "def play_audio(audio_segment):\n",
        "    temp_dir = tempfile.gettempdir()\n",
        "    temp_path = os.path.join(temp_dir, \"temp_audio.wav\")\n",
        "    try:\n",
        "        audio_segment.export(temp_path, format=\"wav\")\n",
        "        time.sleep(3) # Student Dominic found that this was needed. You could also try commenting out to see if not needed on your PC\n",
        "        subprocess.call([\n",
        "            \"ffplay\",\n",
        "            \"-nodisp\",\n",
        "            \"-autoexit\",\n",
        "            \"-hide_banner\",\n",
        "            temp_path\n",
        "        ], stdout=subprocess.DEVNULL, stderr=subprocess.DEVNULL)\n",
        "    finally:\n",
        "        try:\n",
        "            os.remove(temp_path)\n",
        "        except Exception:\n",
        "            pass\n",
        "\n",
        "def talker(message):\n",
        "    response = openai.audio.speech.create(\n",
        "        model=\"tts-1\",\n",
        "        voice=\"onyx\",  # Also, try replacing onyx with alloy\n",
        "        input=message\n",
        "    )\n",
        "    audio_stream = BytesIO(response.content)\n",
        "    audio = AudioSegment.from_file(audio_stream, format=\"mp3\")\n",
        "    play_audio(audio)\n",
        "\n",
        "talker(\"Well hi there\")"
      ]
    },
    {
      "cell_type": "markdown",
      "id": "96f90e35-f71e-468e-afea-07b98f74dbcf",
      "metadata": {
        "id": "96f90e35-f71e-468e-afea-07b98f74dbcf"
      },
      "source": [
        "## PC Variation 3"
      ]
    },
    {
      "cell_type": "code",
      "execution_count": null,
      "id": "8597c7f8-7b50-44ad-9b31-db12375cd57b",
      "metadata": {
        "id": "8597c7f8-7b50-44ad-9b31-db12375cd57b"
      },
      "outputs": [],
      "source": [
        "import os\n",
        "from pydub import AudioSegment\n",
        "from pydub.playback import play\n",
        "from io import BytesIO\n",
        "\n",
        "def talker(message):\n",
        "    # Set a custom directory for temporary files on Windows\n",
        "    custom_temp_dir = os.path.expanduser(\"~/Documents/temp_audio\")\n",
        "    os.environ['TEMP'] = custom_temp_dir  # You can also use 'TMP' if necessary\n",
        "\n",
        "    # Create the folder if it doesn't exist\n",
        "    if not os.path.exists(custom_temp_dir):\n",
        "        os.makedirs(custom_temp_dir)\n",
        "\n",
        "    response = openai.audio.speech.create(\n",
        "        model=\"tts-1\",\n",
        "        voice=\"onyx\",  # Also, try replacing onyx with alloy\n",
        "        input=message\n",
        "    )\n",
        "\n",
        "    audio_stream = BytesIO(response.content)\n",
        "    audio = AudioSegment.from_file(audio_stream, format=\"mp3\")\n",
        "\n",
        "    play(audio)\n",
        "\n",
        "talker(\"Well hi there\")"
      ]
    },
    {
      "cell_type": "markdown",
      "id": "e821224c-b069-4f9b-9535-c15fdb0e411c",
      "metadata": {
        "id": "e821224c-b069-4f9b-9535-c15fdb0e411c"
      },
      "source": [
        "## PC Variation 4\n",
        "\n",
        "### Let's try a completely different sound library\n",
        "\n",
        "First run the next cell to install a new library, then try the cell below it."
      ]
    },
    {
      "cell_type": "code",
      "execution_count": null,
      "id": "69d3c0d9-afcc-49e3-b829-9c9869d8b472",
      "metadata": {
        "id": "69d3c0d9-afcc-49e3-b829-9c9869d8b472"
      },
      "outputs": [],
      "source": [
        "!pip install simpleaudio"
      ]
    },
    {
      "cell_type": "code",
      "execution_count": null,
      "id": "28f9cc99-36b7-4554-b3f4-f2012f614a13",
      "metadata": {
        "id": "28f9cc99-36b7-4554-b3f4-f2012f614a13"
      },
      "outputs": [],
      "source": [
        "from pydub import AudioSegment\n",
        "from io import BytesIO\n",
        "import tempfile\n",
        "import os\n",
        "import simpleaudio as sa\n",
        "\n",
        "def talker(message):\n",
        "    response = openai.audio.speech.create(\n",
        "        model=\"tts-1\",\n",
        "        voice=\"onyx\",  # Also, try replacing onyx with alloy\n",
        "        input=message\n",
        "    )\n",
        "\n",
        "    audio_stream = BytesIO(response.content)\n",
        "    audio = AudioSegment.from_file(audio_stream, format=\"mp3\")\n",
        "\n",
        "    # Create a temporary file in a folder where you have write permissions\n",
        "    with tempfile.NamedTemporaryFile(suffix=\".wav\", delete=False, dir=os.path.expanduser(\"~/Documents\")) as temp_audio_file:\n",
        "        temp_file_name = temp_audio_file.name\n",
        "        audio.export(temp_file_name, format=\"wav\")\n",
        "\n",
        "    # Load and play audio using simpleaudio\n",
        "    wave_obj = sa.WaveObject.from_wave_file(temp_file_name)\n",
        "    play_obj = wave_obj.play()\n",
        "    play_obj.wait_done()  # Wait for playback to finish\n",
        "\n",
        "    # Clean up the temporary file afterward\n",
        "    os.remove(temp_file_name)\n",
        "\n",
        "talker(\"Well hi there\")"
      ]
    },
    {
      "cell_type": "markdown",
      "id": "7986176b-cd04-495f-a47f-e057b0e462ed",
      "metadata": {
        "id": "7986176b-cd04-495f-a47f-e057b0e462ed"
      },
      "source": [
        "## PC Users - if none of those 4 variations worked!\n",
        "\n",
        "Please get in touch with me. I'm sorry this is causing problems! We'll figure it out.\n",
        "\n",
        "Alternatively: playing audio from your PC isn't super-critical for this course, and you can feel free to focus on image generation and skip audio for now, or come back to it later."
      ]
    },
    {
      "cell_type": "markdown",
      "id": "1d48876d-c4fa-46a8-a04f-f9fadf61fb0d",
      "metadata": {
        "id": "1d48876d-c4fa-46a8-a04f-f9fadf61fb0d"
      },
      "source": [
        "# Our Agent Framework\n",
        "\n",
        "The term 'Agentic AI' and Agentization is an umbrella term that refers to a number of techniques, such as:\n",
        "\n",
        "1. Breaking a complex problem into smaller steps, with multiple LLMs carrying out specialized tasks\n",
        "2. The ability for LLMs to use Tools to give them additional capabilities\n",
        "3. The 'Agent Environment' which allows Agents to collaborate\n",
        "4. An LLM can act as the Planner, dividing bigger tasks into smaller ones for the specialists\n",
        "5. The concept of an Agent having autonomy / agency, beyond just responding to a prompt - such as Memory\n",
        "\n",
        "We're showing 1 and 2 here, and to a lesser extent 3 and 5. In week 8 we will do the lot!"
      ]
    },
    {
      "cell_type": "code",
      "execution_count": null,
      "id": "ba820c95-02f5-499e-8f3c-8727ee0a6c0c",
      "metadata": {
        "id": "ba820c95-02f5-499e-8f3c-8727ee0a6c0c"
      },
      "outputs": [],
      "source": [
        "def chat(history):\n",
        "    messages = [{\"role\": \"system\", \"content\": system_message}] + history\n",
        "    response = openai.chat.completions.create(model=MODEL, messages=messages, tools=tools)\n",
        "    image = None\n",
        "\n",
        "    if response.choices[0].finish_reason==\"tool_calls\":\n",
        "        message = response.choices[0].message\n",
        "        response, city = handle_tool_call(message)\n",
        "        messages.append(message)\n",
        "        messages.append(response)\n",
        "        image = artist(city)\n",
        "        response = openai.chat.completions.create(model=MODEL, messages=messages)\n",
        "\n",
        "    reply = response.choices[0].message.content\n",
        "    history += [{\"role\":\"assistant\", \"content\":reply}]\n",
        "\n",
        "    # Comment out or delete the next line if you'd rather skip Audio for now..\n",
        "    talker(reply)\n",
        "\n",
        "    return history, image"
      ]
    },
    {
      "cell_type": "code",
      "execution_count": null,
      "id": "f38d0d27-33bf-4992-a2e5-5dbed973cde7",
      "metadata": {
        "id": "f38d0d27-33bf-4992-a2e5-5dbed973cde7"
      },
      "outputs": [],
      "source": [
        "# More involved Gradio code as we're not using the preset Chat interface!\n",
        "# Passing in inbrowser=True in the last line will cause a Gradio window to pop up immediately.\n",
        "\n",
        "with gr.Blocks() as ui:\n",
        "    with gr.Row():\n",
        "        chatbot = gr.Chatbot(height=500, type=\"messages\")\n",
        "        image_output = gr.Image(height=500)\n",
        "    with gr.Row():\n",
        "        entry = gr.Textbox(label=\"Chat with our AI Assistant:\")\n",
        "    with gr.Row():\n",
        "        clear = gr.Button(\"Clear\")\n",
        "\n",
        "    def do_entry(message, history):\n",
        "        history += [{\"role\":\"user\", \"content\":message}]\n",
        "        return \"\", history\n",
        "\n",
        "    entry.submit(do_entry, inputs=[entry, chatbot], outputs=[entry, chatbot]).then(\n",
        "        chat, inputs=chatbot, outputs=[chatbot, image_output]\n",
        "    )\n",
        "    clear.click(lambda: None, inputs=None, outputs=chatbot, queue=False)\n",
        "\n",
        "ui.launch(inbrowser=True)"
      ]
    },
    {
      "cell_type": "markdown",
      "id": "226643d2-73e4-4252-935d-86b8019e278a",
      "metadata": {
        "id": "226643d2-73e4-4252-935d-86b8019e278a"
      },
      "source": [
        "# Exercises and Business Applications\n",
        "\n",
        "Add in more tools - perhaps to simulate actually booking a flight. A student has done this and provided their example in the community contributions folder.\n",
        "\n",
        "Next: take this and apply it to your business. Make a multi-modal AI assistant with tools that could carry out an activity for your work. A customer support assistant? New employee onboarding assistant? So many possibilities! Also, see the week2 end of week Exercise in the separate Notebook."
      ]
    },
    {
      "cell_type": "markdown",
      "id": "7e795560-1867-42db-a256-a23b844e6fbe",
      "metadata": {
        "id": "7e795560-1867-42db-a256-a23b844e6fbe"
      },
      "source": [
        "<table style=\"margin: 0; text-align: left;\">\n",
        "    <tr>\n",
        "        <td style=\"width: 150px; height: 150px; vertical-align: middle;\">\n",
        "            <img src=\"../thankyou.jpg\" width=\"150\" height=\"150\" style=\"display: block;\" />\n",
        "        </td>\n",
        "        <td>\n",
        "            <h2 style=\"color:#090;\">I have a special request for you</h2>\n",
        "            <span style=\"color:#090;\">\n",
        "                My editor tells me that it makes a HUGE difference when students rate this course on Udemy - it's one of the main ways that Udemy decides whether to show it to others. If you're able to take a minute to rate this, I'd be so very grateful! And regardless - always please reach out to me at ed@edwarddonner.com if I can help at any point.\n",
        "            </span>\n",
        "        </td>\n",
        "    </tr>\n",
        "</table>"
      ]
    }
  ],
  "metadata": {
    "colab": {
      "provenance": []
    },
    "kernelspec": {
      "display_name": "Python 3 (ipykernel)",
      "language": "python",
      "name": "python3"
    },
    "language_info": {
      "codemirror_mode": {
        "name": "ipython",
        "version": 3
      },
      "file_extension": ".py",
      "mimetype": "text/x-python",
      "name": "python",
      "nbconvert_exporter": "python",
      "pygments_lexer": "ipython3",
      "version": "3.11.11"
    },
    "widgets": {
      "application/vnd.jupyter.widget-state+json": {
        "00f12498542b42d0810e34c182680641": {
          "model_module": "@jupyter-widgets/controls",
          "model_module_version": "1.5.0",
          "model_name": "DescriptionStyleModel",
          "state": {
            "_model_module": "@jupyter-widgets/controls",
            "_model_module_version": "1.5.0",
            "_model_name": "DescriptionStyleModel",
            "_view_count": null,
            "_view_module": "@jupyter-widgets/base",
            "_view_module_version": "1.2.0",
            "_view_name": "StyleView",
            "description_width": ""
          }
        },
        "05f2f61778514519962633d600e8ce89": {
          "model_module": "@jupyter-widgets/controls",
          "model_module_version": "1.5.0",
          "model_name": "HTMLModel",
          "state": {
            "_dom_classes": [],
            "_model_module": "@jupyter-widgets/controls",
            "_model_module_version": "1.5.0",
            "_model_name": "HTMLModel",
            "_view_count": null,
            "_view_module": "@jupyter-widgets/controls",
            "_view_module_version": "1.5.0",
            "_view_name": "HTMLView",
            "description": "",
            "description_tooltip": null,
            "layout": "IPY_MODEL_484043b266b74da1aa9ff8fa5a60e00e",
            "placeholder": "​",
            "style": "IPY_MODEL_4041e197317e404180f5dda27356cc31",
            "value": " 9.09M/9.09M [00:00&lt;00:00, 34.9MB/s]"
          }
        },
        "05f76a4960b64a4da93f8b31df329d10": {
          "model_module": "@jupyter-widgets/controls",
          "model_module_version": "1.5.0",
          "model_name": "HBoxModel",
          "state": {
            "_dom_classes": [],
            "_model_module": "@jupyter-widgets/controls",
            "_model_module_version": "1.5.0",
            "_model_name": "HBoxModel",
            "_view_count": null,
            "_view_module": "@jupyter-widgets/controls",
            "_view_module_version": "1.5.0",
            "_view_name": "HBoxView",
            "box_style": "",
            "children": [
              "IPY_MODEL_e38b272df1bb45c9823b9e311a2c1ca6",
              "IPY_MODEL_0f40d556386546abaac67ec540c07183",
              "IPY_MODEL_1698c2297c554bfdbd8fd10743ebf0a0"
            ],
            "layout": "IPY_MODEL_5b9052bc607245f2b5f428c962a78548"
          }
        },
        "069a06b8068a4766bb2afb5f3fea8b88": {
          "model_module": "@jupyter-widgets/controls",
          "model_module_version": "1.5.0",
          "model_name": "FloatProgressModel",
          "state": {
            "_dom_classes": [],
            "_model_module": "@jupyter-widgets/controls",
            "_model_module_version": "1.5.0",
            "_model_name": "FloatProgressModel",
            "_view_count": null,
            "_view_module": "@jupyter-widgets/controls",
            "_view_module_version": "1.5.0",
            "_view_name": "ProgressView",
            "bar_style": "success",
            "description": "",
            "description_tooltip": null,
            "layout": "IPY_MODEL_ec63c4015b7a49679cedcf18ea8ce68c",
            "max": 2471645608,
            "min": 0,
            "orientation": "horizontal",
            "style": "IPY_MODEL_652145c6edf6499c9c76028684c1b89c",
            "value": 2471645608
          }
        },
        "0c7bbac0e1894464b33d6c1223c2c188": {
          "model_module": "@jupyter-widgets/controls",
          "model_module_version": "1.5.0",
          "model_name": "HBoxModel",
          "state": {
            "_dom_classes": [],
            "_model_module": "@jupyter-widgets/controls",
            "_model_module_version": "1.5.0",
            "_model_name": "HBoxModel",
            "_view_count": null,
            "_view_module": "@jupyter-widgets/controls",
            "_view_module_version": "1.5.0",
            "_view_name": "HBoxView",
            "box_style": "",
            "children": [
              "IPY_MODEL_0fed222b017a43c4b9d594e8667a4951",
              "IPY_MODEL_beaee9eafe0b4795be939344c2164fc6",
              "IPY_MODEL_5fe070ec484d4139bbd404a8f9aed0e6"
            ],
            "layout": "IPY_MODEL_17c4427955744d8ab4b30dafb8a06fce"
          }
        },
        "0f40d556386546abaac67ec540c07183": {
          "model_module": "@jupyter-widgets/controls",
          "model_module_version": "1.5.0",
          "model_name": "FloatProgressModel",
          "state": {
            "_dom_classes": [],
            "_model_module": "@jupyter-widgets/controls",
            "_model_module_version": "1.5.0",
            "_model_name": "FloatProgressModel",
            "_view_count": null,
            "_view_module": "@jupyter-widgets/controls",
            "_view_module_version": "1.5.0",
            "_view_name": "ProgressView",
            "bar_style": "success",
            "description": "",
            "description_tooltip": null,
            "layout": "IPY_MODEL_340fdefc5a1946f1bc0a2cd2c56d8beb",
            "max": 54528,
            "min": 0,
            "orientation": "horizontal",
            "style": "IPY_MODEL_26af5358e37e45249712da760de72904",
            "value": 54528
          }
        },
        "0fed222b017a43c4b9d594e8667a4951": {
          "model_module": "@jupyter-widgets/controls",
          "model_module_version": "1.5.0",
          "model_name": "HTMLModel",
          "state": {
            "_dom_classes": [],
            "_model_module": "@jupyter-widgets/controls",
            "_model_module_version": "1.5.0",
            "_model_name": "HTMLModel",
            "_view_count": null,
            "_view_module": "@jupyter-widgets/controls",
            "_view_module_version": "1.5.0",
            "_view_name": "HTMLView",
            "description": "",
            "description_tooltip": null,
            "layout": "IPY_MODEL_4f3ea36a3be346599f4348b82c186f96",
            "placeholder": "​",
            "style": "IPY_MODEL_685e75dd2409474084fc34bbe1893130",
            "value": "generation_config.json: 100%"
          }
        },
        "13a4c265fd224f868e586c904126eb2a": {
          "model_module": "@jupyter-widgets/controls",
          "model_module_version": "1.5.0",
          "model_name": "HTMLModel",
          "state": {
            "_dom_classes": [],
            "_model_module": "@jupyter-widgets/controls",
            "_model_module_version": "1.5.0",
            "_model_name": "HTMLModel",
            "_view_count": null,
            "_view_module": "@jupyter-widgets/controls",
            "_view_module_version": "1.5.0",
            "_view_name": "HTMLView",
            "description": "",
            "description_tooltip": null,
            "layout": "IPY_MODEL_26c7bdb4e9304eef988eafb912d6958a",
            "placeholder": "​",
            "style": "IPY_MODEL_6a2bc8270730498a8353848aec37aefc",
            "value": "special_tokens_map.json: 100%"
          }
        },
        "1698c2297c554bfdbd8fd10743ebf0a0": {
          "model_module": "@jupyter-widgets/controls",
          "model_module_version": "1.5.0",
          "model_name": "HTMLModel",
          "state": {
            "_dom_classes": [],
            "_model_module": "@jupyter-widgets/controls",
            "_model_module_version": "1.5.0",
            "_model_name": "HTMLModel",
            "_view_count": null,
            "_view_module": "@jupyter-widgets/controls",
            "_view_module_version": "1.5.0",
            "_view_name": "HTMLView",
            "description": "",
            "description_tooltip": null,
            "layout": "IPY_MODEL_b3cfe910b14f44469fdaac75b1bfdd9a",
            "placeholder": "​",
            "style": "IPY_MODEL_bf8507eca6d143d9bf0b06ff8d01c7aa",
            "value": " 54.5k/54.5k [00:00&lt;00:00, 1.85MB/s]"
          }
        },
        "17c4427955744d8ab4b30dafb8a06fce": {
          "model_module": "@jupyter-widgets/base",
          "model_module_version": "1.2.0",
          "model_name": "LayoutModel",
          "state": {
            "_model_module": "@jupyter-widgets/base",
            "_model_module_version": "1.2.0",
            "_model_name": "LayoutModel",
            "_view_count": null,
            "_view_module": "@jupyter-widgets/base",
            "_view_module_version": "1.2.0",
            "_view_name": "LayoutView",
            "align_content": null,
            "align_items": null,
            "align_self": null,
            "border": null,
            "bottom": null,
            "display": null,
            "flex": null,
            "flex_flow": null,
            "grid_area": null,
            "grid_auto_columns": null,
            "grid_auto_flow": null,
            "grid_auto_rows": null,
            "grid_column": null,
            "grid_gap": null,
            "grid_row": null,
            "grid_template_areas": null,
            "grid_template_columns": null,
            "grid_template_rows": null,
            "height": null,
            "justify_content": null,
            "justify_items": null,
            "left": null,
            "margin": null,
            "max_height": null,
            "max_width": null,
            "min_height": null,
            "min_width": null,
            "object_fit": null,
            "object_position": null,
            "order": null,
            "overflow": null,
            "overflow_x": null,
            "overflow_y": null,
            "padding": null,
            "right": null,
            "top": null,
            "visibility": null,
            "width": null
          }
        },
        "1a8355fa28e14dfd966c2d726972e89a": {
          "model_module": "@jupyter-widgets/controls",
          "model_module_version": "1.5.0",
          "model_name": "HTMLModel",
          "state": {
            "_dom_classes": [],
            "_model_module": "@jupyter-widgets/controls",
            "_model_module_version": "1.5.0",
            "_model_name": "HTMLModel",
            "_view_count": null,
            "_view_module": "@jupyter-widgets/controls",
            "_view_module_version": "1.5.0",
            "_view_name": "HTMLView",
            "description": "",
            "description_tooltip": null,
            "layout": "IPY_MODEL_55f9a9974f3240b6b11aee60c8c67ad9",
            "placeholder": "​",
            "style": "IPY_MODEL_d90fb4429eb647c9b4fb33b859afaf54",
            "value": " 877/877 [00:00&lt;00:00, 73.5kB/s]"
          }
        },
        "26af5358e37e45249712da760de72904": {
          "model_module": "@jupyter-widgets/controls",
          "model_module_version": "1.5.0",
          "model_name": "ProgressStyleModel",
          "state": {
            "_model_module": "@jupyter-widgets/controls",
            "_model_module_version": "1.5.0",
            "_model_name": "ProgressStyleModel",
            "_view_count": null,
            "_view_module": "@jupyter-widgets/base",
            "_view_module_version": "1.2.0",
            "_view_name": "StyleView",
            "bar_color": null,
            "description_width": ""
          }
        },
        "26c7bdb4e9304eef988eafb912d6958a": {
          "model_module": "@jupyter-widgets/base",
          "model_module_version": "1.2.0",
          "model_name": "LayoutModel",
          "state": {
            "_model_module": "@jupyter-widgets/base",
            "_model_module_version": "1.2.0",
            "_model_name": "LayoutModel",
            "_view_count": null,
            "_view_module": "@jupyter-widgets/base",
            "_view_module_version": "1.2.0",
            "_view_name": "LayoutView",
            "align_content": null,
            "align_items": null,
            "align_self": null,
            "border": null,
            "bottom": null,
            "display": null,
            "flex": null,
            "flex_flow": null,
            "grid_area": null,
            "grid_auto_columns": null,
            "grid_auto_flow": null,
            "grid_auto_rows": null,
            "grid_column": null,
            "grid_gap": null,
            "grid_row": null,
            "grid_template_areas": null,
            "grid_template_columns": null,
            "grid_template_rows": null,
            "height": null,
            "justify_content": null,
            "justify_items": null,
            "left": null,
            "margin": null,
            "max_height": null,
            "max_width": null,
            "min_height": null,
            "min_width": null,
            "object_fit": null,
            "object_position": null,
            "order": null,
            "overflow": null,
            "overflow_x": null,
            "overflow_y": null,
            "padding": null,
            "right": null,
            "top": null,
            "visibility": null,
            "width": null
          }
        },
        "281a0897e2c84fed86427e326215cbb8": {
          "model_module": "@jupyter-widgets/controls",
          "model_module_version": "1.5.0",
          "model_name": "FloatProgressModel",
          "state": {
            "_dom_classes": [],
            "_model_module": "@jupyter-widgets/controls",
            "_model_module_version": "1.5.0",
            "_model_name": "FloatProgressModel",
            "_view_count": null,
            "_view_module": "@jupyter-widgets/controls",
            "_view_module_version": "1.5.0",
            "_view_name": "ProgressView",
            "bar_style": "success",
            "description": "",
            "description_tooltip": null,
            "layout": "IPY_MODEL_577adf1e699048758a9e2bf3fe8ed1b2",
            "max": 296,
            "min": 0,
            "orientation": "horizontal",
            "style": "IPY_MODEL_aee500c302be4485ad12d9c423332eb0",
            "value": 296
          }
        },
        "2f11d05a50db4d1aa9b8cbda6bebd8ab": {
          "model_module": "@jupyter-widgets/controls",
          "model_module_version": "1.5.0",
          "model_name": "DescriptionStyleModel",
          "state": {
            "_model_module": "@jupyter-widgets/controls",
            "_model_module_version": "1.5.0",
            "_model_name": "DescriptionStyleModel",
            "_view_count": null,
            "_view_module": "@jupyter-widgets/base",
            "_view_module_version": "1.2.0",
            "_view_name": "StyleView",
            "description_width": ""
          }
        },
        "326060c66d4e4c54a689d41dcfa61df3": {
          "model_module": "@jupyter-widgets/controls",
          "model_module_version": "1.5.0",
          "model_name": "HTMLModel",
          "state": {
            "_dom_classes": [],
            "_model_module": "@jupyter-widgets/controls",
            "_model_module_version": "1.5.0",
            "_model_name": "HTMLModel",
            "_view_count": null,
            "_view_module": "@jupyter-widgets/controls",
            "_view_module_version": "1.5.0",
            "_view_name": "HTMLView",
            "description": "",
            "description_tooltip": null,
            "layout": "IPY_MODEL_f5c9344447964924863f2f77b763bf48",
            "placeholder": "​",
            "style": "IPY_MODEL_42cf3a0edcb34be08df7e09eadd0da11",
            "value": "tokenizer.json: 100%"
          }
        },
        "340fdefc5a1946f1bc0a2cd2c56d8beb": {
          "model_module": "@jupyter-widgets/base",
          "model_module_version": "1.2.0",
          "model_name": "LayoutModel",
          "state": {
            "_model_module": "@jupyter-widgets/base",
            "_model_module_version": "1.2.0",
            "_model_name": "LayoutModel",
            "_view_count": null,
            "_view_module": "@jupyter-widgets/base",
            "_view_module_version": "1.2.0",
            "_view_name": "LayoutView",
            "align_content": null,
            "align_items": null,
            "align_self": null,
            "border": null,
            "bottom": null,
            "display": null,
            "flex": null,
            "flex_flow": null,
            "grid_area": null,
            "grid_auto_columns": null,
            "grid_auto_flow": null,
            "grid_auto_rows": null,
            "grid_column": null,
            "grid_gap": null,
            "grid_row": null,
            "grid_template_areas": null,
            "grid_template_columns": null,
            "grid_template_rows": null,
            "height": null,
            "justify_content": null,
            "justify_items": null,
            "left": null,
            "margin": null,
            "max_height": null,
            "max_width": null,
            "min_height": null,
            "min_width": null,
            "object_fit": null,
            "object_position": null,
            "order": null,
            "overflow": null,
            "overflow_x": null,
            "overflow_y": null,
            "padding": null,
            "right": null,
            "top": null,
            "visibility": null,
            "width": null
          }
        },
        "3a54c20f5f3e4a63b3abacf0c954cd8b": {
          "model_module": "@jupyter-widgets/base",
          "model_module_version": "1.2.0",
          "model_name": "LayoutModel",
          "state": {
            "_model_module": "@jupyter-widgets/base",
            "_model_module_version": "1.2.0",
            "_model_name": "LayoutModel",
            "_view_count": null,
            "_view_module": "@jupyter-widgets/base",
            "_view_module_version": "1.2.0",
            "_view_name": "LayoutView",
            "align_content": null,
            "align_items": null,
            "align_self": null,
            "border": null,
            "bottom": null,
            "display": null,
            "flex": null,
            "flex_flow": null,
            "grid_area": null,
            "grid_auto_columns": null,
            "grid_auto_flow": null,
            "grid_auto_rows": null,
            "grid_column": null,
            "grid_gap": null,
            "grid_row": null,
            "grid_template_areas": null,
            "grid_template_columns": null,
            "grid_template_rows": null,
            "height": null,
            "justify_content": null,
            "justify_items": null,
            "left": null,
            "margin": null,
            "max_height": null,
            "max_width": null,
            "min_height": null,
            "min_width": null,
            "object_fit": null,
            "object_position": null,
            "order": null,
            "overflow": null,
            "overflow_x": null,
            "overflow_y": null,
            "padding": null,
            "right": null,
            "top": null,
            "visibility": null,
            "width": null
          }
        },
        "4041e197317e404180f5dda27356cc31": {
          "model_module": "@jupyter-widgets/controls",
          "model_module_version": "1.5.0",
          "model_name": "DescriptionStyleModel",
          "state": {
            "_model_module": "@jupyter-widgets/controls",
            "_model_module_version": "1.5.0",
            "_model_name": "DescriptionStyleModel",
            "_view_count": null,
            "_view_module": "@jupyter-widgets/base",
            "_view_module_version": "1.2.0",
            "_view_name": "StyleView",
            "description_width": ""
          }
        },
        "42cf3a0edcb34be08df7e09eadd0da11": {
          "model_module": "@jupyter-widgets/controls",
          "model_module_version": "1.5.0",
          "model_name": "DescriptionStyleModel",
          "state": {
            "_model_module": "@jupyter-widgets/controls",
            "_model_module_version": "1.5.0",
            "_model_name": "DescriptionStyleModel",
            "_view_count": null,
            "_view_module": "@jupyter-widgets/base",
            "_view_module_version": "1.2.0",
            "_view_name": "StyleView",
            "description_width": ""
          }
        },
        "484043b266b74da1aa9ff8fa5a60e00e": {
          "model_module": "@jupyter-widgets/base",
          "model_module_version": "1.2.0",
          "model_name": "LayoutModel",
          "state": {
            "_model_module": "@jupyter-widgets/base",
            "_model_module_version": "1.2.0",
            "_model_name": "LayoutModel",
            "_view_count": null,
            "_view_module": "@jupyter-widgets/base",
            "_view_module_version": "1.2.0",
            "_view_name": "LayoutView",
            "align_content": null,
            "align_items": null,
            "align_self": null,
            "border": null,
            "bottom": null,
            "display": null,
            "flex": null,
            "flex_flow": null,
            "grid_area": null,
            "grid_auto_columns": null,
            "grid_auto_flow": null,
            "grid_auto_rows": null,
            "grid_column": null,
            "grid_gap": null,
            "grid_row": null,
            "grid_template_areas": null,
            "grid_template_columns": null,
            "grid_template_rows": null,
            "height": null,
            "justify_content": null,
            "justify_items": null,
            "left": null,
            "margin": null,
            "max_height": null,
            "max_width": null,
            "min_height": null,
            "min_width": null,
            "object_fit": null,
            "object_position": null,
            "order": null,
            "overflow": null,
            "overflow_x": null,
            "overflow_y": null,
            "padding": null,
            "right": null,
            "top": null,
            "visibility": null,
            "width": null
          }
        },
        "4a655f840d254e3cbae9bcd3bc4703bc": {
          "model_module": "@jupyter-widgets/controls",
          "model_module_version": "1.5.0",
          "model_name": "FloatProgressModel",
          "state": {
            "_dom_classes": [],
            "_model_module": "@jupyter-widgets/controls",
            "_model_module_version": "1.5.0",
            "_model_name": "FloatProgressModel",
            "_view_count": null,
            "_view_module": "@jupyter-widgets/controls",
            "_view_module_version": "1.5.0",
            "_view_name": "ProgressView",
            "bar_style": "success",
            "description": "",
            "description_tooltip": null,
            "layout": "IPY_MODEL_e3b4195aecd5423fb62cc66e5645b1ea",
            "max": 9085657,
            "min": 0,
            "orientation": "horizontal",
            "style": "IPY_MODEL_a8f0dab642eb49f3b7d7fe71749803c8",
            "value": 9085657
          }
        },
        "4f3ea36a3be346599f4348b82c186f96": {
          "model_module": "@jupyter-widgets/base",
          "model_module_version": "1.2.0",
          "model_name": "LayoutModel",
          "state": {
            "_model_module": "@jupyter-widgets/base",
            "_model_module_version": "1.2.0",
            "_model_name": "LayoutModel",
            "_view_count": null,
            "_view_module": "@jupyter-widgets/base",
            "_view_module_version": "1.2.0",
            "_view_name": "LayoutView",
            "align_content": null,
            "align_items": null,
            "align_self": null,
            "border": null,
            "bottom": null,
            "display": null,
            "flex": null,
            "flex_flow": null,
            "grid_area": null,
            "grid_auto_columns": null,
            "grid_auto_flow": null,
            "grid_auto_rows": null,
            "grid_column": null,
            "grid_gap": null,
            "grid_row": null,
            "grid_template_areas": null,
            "grid_template_columns": null,
            "grid_template_rows": null,
            "height": null,
            "justify_content": null,
            "justify_items": null,
            "left": null,
            "margin": null,
            "max_height": null,
            "max_width": null,
            "min_height": null,
            "min_width": null,
            "object_fit": null,
            "object_position": null,
            "order": null,
            "overflow": null,
            "overflow_x": null,
            "overflow_y": null,
            "padding": null,
            "right": null,
            "top": null,
            "visibility": null,
            "width": null
          }
        },
        "55f9a9974f3240b6b11aee60c8c67ad9": {
          "model_module": "@jupyter-widgets/base",
          "model_module_version": "1.2.0",
          "model_name": "LayoutModel",
          "state": {
            "_model_module": "@jupyter-widgets/base",
            "_model_module_version": "1.2.0",
            "_model_name": "LayoutModel",
            "_view_count": null,
            "_view_module": "@jupyter-widgets/base",
            "_view_module_version": "1.2.0",
            "_view_name": "LayoutView",
            "align_content": null,
            "align_items": null,
            "align_self": null,
            "border": null,
            "bottom": null,
            "display": null,
            "flex": null,
            "flex_flow": null,
            "grid_area": null,
            "grid_auto_columns": null,
            "grid_auto_flow": null,
            "grid_auto_rows": null,
            "grid_column": null,
            "grid_gap": null,
            "grid_row": null,
            "grid_template_areas": null,
            "grid_template_columns": null,
            "grid_template_rows": null,
            "height": null,
            "justify_content": null,
            "justify_items": null,
            "left": null,
            "margin": null,
            "max_height": null,
            "max_width": null,
            "min_height": null,
            "min_width": null,
            "object_fit": null,
            "object_position": null,
            "order": null,
            "overflow": null,
            "overflow_x": null,
            "overflow_y": null,
            "padding": null,
            "right": null,
            "top": null,
            "visibility": null,
            "width": null
          }
        },
        "56b37a6c9d1d4dea949002d5f4840335": {
          "model_module": "@jupyter-widgets/controls",
          "model_module_version": "1.5.0",
          "model_name": "DescriptionStyleModel",
          "state": {
            "_model_module": "@jupyter-widgets/controls",
            "_model_module_version": "1.5.0",
            "_model_name": "DescriptionStyleModel",
            "_view_count": null,
            "_view_module": "@jupyter-widgets/base",
            "_view_module_version": "1.2.0",
            "_view_name": "StyleView",
            "description_width": ""
          }
        },
        "577adf1e699048758a9e2bf3fe8ed1b2": {
          "model_module": "@jupyter-widgets/base",
          "model_module_version": "1.2.0",
          "model_name": "LayoutModel",
          "state": {
            "_model_module": "@jupyter-widgets/base",
            "_model_module_version": "1.2.0",
            "_model_name": "LayoutModel",
            "_view_count": null,
            "_view_module": "@jupyter-widgets/base",
            "_view_module_version": "1.2.0",
            "_view_name": "LayoutView",
            "align_content": null,
            "align_items": null,
            "align_self": null,
            "border": null,
            "bottom": null,
            "display": null,
            "flex": null,
            "flex_flow": null,
            "grid_area": null,
            "grid_auto_columns": null,
            "grid_auto_flow": null,
            "grid_auto_rows": null,
            "grid_column": null,
            "grid_gap": null,
            "grid_row": null,
            "grid_template_areas": null,
            "grid_template_columns": null,
            "grid_template_rows": null,
            "height": null,
            "justify_content": null,
            "justify_items": null,
            "left": null,
            "margin": null,
            "max_height": null,
            "max_width": null,
            "min_height": null,
            "min_width": null,
            "object_fit": null,
            "object_position": null,
            "order": null,
            "overflow": null,
            "overflow_x": null,
            "overflow_y": null,
            "padding": null,
            "right": null,
            "top": null,
            "visibility": null,
            "width": null
          }
        },
        "5b9052bc607245f2b5f428c962a78548": {
          "model_module": "@jupyter-widgets/base",
          "model_module_version": "1.2.0",
          "model_name": "LayoutModel",
          "state": {
            "_model_module": "@jupyter-widgets/base",
            "_model_module_version": "1.2.0",
            "_model_name": "LayoutModel",
            "_view_count": null,
            "_view_module": "@jupyter-widgets/base",
            "_view_module_version": "1.2.0",
            "_view_name": "LayoutView",
            "align_content": null,
            "align_items": null,
            "align_self": null,
            "border": null,
            "bottom": null,
            "display": null,
            "flex": null,
            "flex_flow": null,
            "grid_area": null,
            "grid_auto_columns": null,
            "grid_auto_flow": null,
            "grid_auto_rows": null,
            "grid_column": null,
            "grid_gap": null,
            "grid_row": null,
            "grid_template_areas": null,
            "grid_template_columns": null,
            "grid_template_rows": null,
            "height": null,
            "justify_content": null,
            "justify_items": null,
            "left": null,
            "margin": null,
            "max_height": null,
            "max_width": null,
            "min_height": null,
            "min_width": null,
            "object_fit": null,
            "object_position": null,
            "order": null,
            "overflow": null,
            "overflow_x": null,
            "overflow_y": null,
            "padding": null,
            "right": null,
            "top": null,
            "visibility": null,
            "width": null
          }
        },
        "5fe070ec484d4139bbd404a8f9aed0e6": {
          "model_module": "@jupyter-widgets/controls",
          "model_module_version": "1.5.0",
          "model_name": "HTMLModel",
          "state": {
            "_dom_classes": [],
            "_model_module": "@jupyter-widgets/controls",
            "_model_module_version": "1.5.0",
            "_model_name": "HTMLModel",
            "_view_count": null,
            "_view_module": "@jupyter-widgets/controls",
            "_view_module_version": "1.5.0",
            "_view_name": "HTMLView",
            "description": "",
            "description_tooltip": null,
            "layout": "IPY_MODEL_7205fc7457644590ac8d38e574ed45f9",
            "placeholder": "​",
            "style": "IPY_MODEL_2f11d05a50db4d1aa9b8cbda6bebd8ab",
            "value": " 189/189 [00:00&lt;00:00, 4.43kB/s]"
          }
        },
        "60775f0140d44327bf10df3b0648039c": {
          "model_module": "@jupyter-widgets/controls",
          "model_module_version": "1.5.0",
          "model_name": "HBoxModel",
          "state": {
            "_dom_classes": [],
            "_model_module": "@jupyter-widgets/controls",
            "_model_module_version": "1.5.0",
            "_model_name": "HBoxModel",
            "_view_count": null,
            "_view_module": "@jupyter-widgets/controls",
            "_view_module_version": "1.5.0",
            "_view_name": "HBoxView",
            "box_style": "",
            "children": [
              "IPY_MODEL_13a4c265fd224f868e586c904126eb2a",
              "IPY_MODEL_281a0897e2c84fed86427e326215cbb8",
              "IPY_MODEL_699b5dfd16614c539dbd153444f8cd74"
            ],
            "layout": "IPY_MODEL_9aaa349bb2b744d79cd222d6f7b7860a"
          }
        },
        "652145c6edf6499c9c76028684c1b89c": {
          "model_module": "@jupyter-widgets/controls",
          "model_module_version": "1.5.0",
          "model_name": "ProgressStyleModel",
          "state": {
            "_model_module": "@jupyter-widgets/controls",
            "_model_module_version": "1.5.0",
            "_model_name": "ProgressStyleModel",
            "_view_count": null,
            "_view_module": "@jupyter-widgets/base",
            "_view_module_version": "1.2.0",
            "_view_name": "StyleView",
            "bar_color": null,
            "description_width": ""
          }
        },
        "66f7ce91e5a644078912dbb133ab1c5d": {
          "model_module": "@jupyter-widgets/controls",
          "model_module_version": "1.5.0",
          "model_name": "DescriptionStyleModel",
          "state": {
            "_model_module": "@jupyter-widgets/controls",
            "_model_module_version": "1.5.0",
            "_model_name": "DescriptionStyleModel",
            "_view_count": null,
            "_view_module": "@jupyter-widgets/base",
            "_view_module_version": "1.2.0",
            "_view_name": "StyleView",
            "description_width": ""
          }
        },
        "685e75dd2409474084fc34bbe1893130": {
          "model_module": "@jupyter-widgets/controls",
          "model_module_version": "1.5.0",
          "model_name": "DescriptionStyleModel",
          "state": {
            "_model_module": "@jupyter-widgets/controls",
            "_model_module_version": "1.5.0",
            "_model_name": "DescriptionStyleModel",
            "_view_count": null,
            "_view_module": "@jupyter-widgets/base",
            "_view_module_version": "1.2.0",
            "_view_name": "StyleView",
            "description_width": ""
          }
        },
        "699b5dfd16614c539dbd153444f8cd74": {
          "model_module": "@jupyter-widgets/controls",
          "model_module_version": "1.5.0",
          "model_name": "HTMLModel",
          "state": {
            "_dom_classes": [],
            "_model_module": "@jupyter-widgets/controls",
            "_model_module_version": "1.5.0",
            "_model_name": "HTMLModel",
            "_view_count": null,
            "_view_module": "@jupyter-widgets/controls",
            "_view_module_version": "1.5.0",
            "_view_name": "HTMLView",
            "description": "",
            "description_tooltip": null,
            "layout": "IPY_MODEL_cbd568c05fe64d35ae5ba6efde2c9517",
            "placeholder": "​",
            "style": "IPY_MODEL_66f7ce91e5a644078912dbb133ab1c5d",
            "value": " 296/296 [00:00&lt;00:00, 5.68kB/s]"
          }
        },
        "6a2bc8270730498a8353848aec37aefc": {
          "model_module": "@jupyter-widgets/controls",
          "model_module_version": "1.5.0",
          "model_name": "DescriptionStyleModel",
          "state": {
            "_model_module": "@jupyter-widgets/controls",
            "_model_module_version": "1.5.0",
            "_model_name": "DescriptionStyleModel",
            "_view_count": null,
            "_view_module": "@jupyter-widgets/base",
            "_view_module_version": "1.2.0",
            "_view_name": "StyleView",
            "description_width": ""
          }
        },
        "7205fc7457644590ac8d38e574ed45f9": {
          "model_module": "@jupyter-widgets/base",
          "model_module_version": "1.2.0",
          "model_name": "LayoutModel",
          "state": {
            "_model_module": "@jupyter-widgets/base",
            "_model_module_version": "1.2.0",
            "_model_name": "LayoutModel",
            "_view_count": null,
            "_view_module": "@jupyter-widgets/base",
            "_view_module_version": "1.2.0",
            "_view_name": "LayoutView",
            "align_content": null,
            "align_items": null,
            "align_self": null,
            "border": null,
            "bottom": null,
            "display": null,
            "flex": null,
            "flex_flow": null,
            "grid_area": null,
            "grid_auto_columns": null,
            "grid_auto_flow": null,
            "grid_auto_rows": null,
            "grid_column": null,
            "grid_gap": null,
            "grid_row": null,
            "grid_template_areas": null,
            "grid_template_columns": null,
            "grid_template_rows": null,
            "height": null,
            "justify_content": null,
            "justify_items": null,
            "left": null,
            "margin": null,
            "max_height": null,
            "max_width": null,
            "min_height": null,
            "min_width": null,
            "object_fit": null,
            "object_position": null,
            "order": null,
            "overflow": null,
            "overflow_x": null,
            "overflow_y": null,
            "padding": null,
            "right": null,
            "top": null,
            "visibility": null,
            "width": null
          }
        },
        "823ae49b60864dcca26e50b855a98949": {
          "model_module": "@jupyter-widgets/controls",
          "model_module_version": "1.5.0",
          "model_name": "HTMLModel",
          "state": {
            "_dom_classes": [],
            "_model_module": "@jupyter-widgets/controls",
            "_model_module_version": "1.5.0",
            "_model_name": "HTMLModel",
            "_view_count": null,
            "_view_module": "@jupyter-widgets/controls",
            "_view_module_version": "1.5.0",
            "_view_name": "HTMLView",
            "description": "",
            "description_tooltip": null,
            "layout": "IPY_MODEL_f1bd1e29932248d8bf7b227e9f354854",
            "placeholder": "​",
            "style": "IPY_MODEL_56b37a6c9d1d4dea949002d5f4840335",
            "value": " 2.47G/2.47G [00:21&lt;00:00, 108MB/s]"
          }
        },
        "82dcc993320f4c558d934f501ff2e3e0": {
          "model_module": "@jupyter-widgets/controls",
          "model_module_version": "1.5.0",
          "model_name": "HBoxModel",
          "state": {
            "_dom_classes": [],
            "_model_module": "@jupyter-widgets/controls",
            "_model_module_version": "1.5.0",
            "_model_name": "HBoxModel",
            "_view_count": null,
            "_view_module": "@jupyter-widgets/controls",
            "_view_module_version": "1.5.0",
            "_view_name": "HBoxView",
            "box_style": "",
            "children": [
              "IPY_MODEL_326060c66d4e4c54a689d41dcfa61df3",
              "IPY_MODEL_4a655f840d254e3cbae9bcd3bc4703bc",
              "IPY_MODEL_05f2f61778514519962633d600e8ce89"
            ],
            "layout": "IPY_MODEL_d5009786cb0544d5a1f3fd98e3f31dfb"
          }
        },
        "8509ee0e11354f0c9b5ef94ec4eb2726": {
          "model_module": "@jupyter-widgets/base",
          "model_module_version": "1.2.0",
          "model_name": "LayoutModel",
          "state": {
            "_model_module": "@jupyter-widgets/base",
            "_model_module_version": "1.2.0",
            "_model_name": "LayoutModel",
            "_view_count": null,
            "_view_module": "@jupyter-widgets/base",
            "_view_module_version": "1.2.0",
            "_view_name": "LayoutView",
            "align_content": null,
            "align_items": null,
            "align_self": null,
            "border": null,
            "bottom": null,
            "display": null,
            "flex": null,
            "flex_flow": null,
            "grid_area": null,
            "grid_auto_columns": null,
            "grid_auto_flow": null,
            "grid_auto_rows": null,
            "grid_column": null,
            "grid_gap": null,
            "grid_row": null,
            "grid_template_areas": null,
            "grid_template_columns": null,
            "grid_template_rows": null,
            "height": null,
            "justify_content": null,
            "justify_items": null,
            "left": null,
            "margin": null,
            "max_height": null,
            "max_width": null,
            "min_height": null,
            "min_width": null,
            "object_fit": null,
            "object_position": null,
            "order": null,
            "overflow": null,
            "overflow_x": null,
            "overflow_y": null,
            "padding": null,
            "right": null,
            "top": null,
            "visibility": null,
            "width": null
          }
        },
        "88ce15964d8343f1a671eae52e32c02f": {
          "model_module": "@jupyter-widgets/controls",
          "model_module_version": "1.5.0",
          "model_name": "FloatProgressModel",
          "state": {
            "_dom_classes": [],
            "_model_module": "@jupyter-widgets/controls",
            "_model_module_version": "1.5.0",
            "_model_name": "FloatProgressModel",
            "_view_count": null,
            "_view_module": "@jupyter-widgets/controls",
            "_view_module_version": "1.5.0",
            "_view_name": "ProgressView",
            "bar_style": "success",
            "description": "",
            "description_tooltip": null,
            "layout": "IPY_MODEL_3a54c20f5f3e4a63b3abacf0c954cd8b",
            "max": 877,
            "min": 0,
            "orientation": "horizontal",
            "style": "IPY_MODEL_c5fc5d3e91bc4116b2b81a0c1ba62cf4",
            "value": 877
          }
        },
        "90772cf9c0b441c9a4a80a35e82abe11": {
          "model_module": "@jupyter-widgets/controls",
          "model_module_version": "1.5.0",
          "model_name": "HBoxModel",
          "state": {
            "_dom_classes": [],
            "_model_module": "@jupyter-widgets/controls",
            "_model_module_version": "1.5.0",
            "_model_name": "HBoxModel",
            "_view_count": null,
            "_view_module": "@jupyter-widgets/controls",
            "_view_module_version": "1.5.0",
            "_view_name": "HBoxView",
            "box_style": "",
            "children": [
              "IPY_MODEL_95644decbd0d4fbd82dec9101aa1ba87",
              "IPY_MODEL_069a06b8068a4766bb2afb5f3fea8b88",
              "IPY_MODEL_823ae49b60864dcca26e50b855a98949"
            ],
            "layout": "IPY_MODEL_a1483dfc9d984efcab1e7b87bdffce05"
          }
        },
        "913c2755c0e54ba8a519787d1814988d": {
          "model_module": "@jupyter-widgets/controls",
          "model_module_version": "1.5.0",
          "model_name": "DescriptionStyleModel",
          "state": {
            "_model_module": "@jupyter-widgets/controls",
            "_model_module_version": "1.5.0",
            "_model_name": "DescriptionStyleModel",
            "_view_count": null,
            "_view_module": "@jupyter-widgets/base",
            "_view_module_version": "1.2.0",
            "_view_name": "StyleView",
            "description_width": ""
          }
        },
        "95644decbd0d4fbd82dec9101aa1ba87": {
          "model_module": "@jupyter-widgets/controls",
          "model_module_version": "1.5.0",
          "model_name": "HTMLModel",
          "state": {
            "_dom_classes": [],
            "_model_module": "@jupyter-widgets/controls",
            "_model_module_version": "1.5.0",
            "_model_name": "HTMLModel",
            "_view_count": null,
            "_view_module": "@jupyter-widgets/controls",
            "_view_module_version": "1.5.0",
            "_view_name": "HTMLView",
            "description": "",
            "description_tooltip": null,
            "layout": "IPY_MODEL_a9cea9ac1bba4ab7817e325a1c375f89",
            "placeholder": "​",
            "style": "IPY_MODEL_df934722c49346aea65c5d0cf74a6683",
            "value": "model.safetensors: 100%"
          }
        },
        "9aaa349bb2b744d79cd222d6f7b7860a": {
          "model_module": "@jupyter-widgets/base",
          "model_module_version": "1.2.0",
          "model_name": "LayoutModel",
          "state": {
            "_model_module": "@jupyter-widgets/base",
            "_model_module_version": "1.2.0",
            "_model_name": "LayoutModel",
            "_view_count": null,
            "_view_module": "@jupyter-widgets/base",
            "_view_module_version": "1.2.0",
            "_view_name": "LayoutView",
            "align_content": null,
            "align_items": null,
            "align_self": null,
            "border": null,
            "bottom": null,
            "display": null,
            "flex": null,
            "flex_flow": null,
            "grid_area": null,
            "grid_auto_columns": null,
            "grid_auto_flow": null,
            "grid_auto_rows": null,
            "grid_column": null,
            "grid_gap": null,
            "grid_row": null,
            "grid_template_areas": null,
            "grid_template_columns": null,
            "grid_template_rows": null,
            "height": null,
            "justify_content": null,
            "justify_items": null,
            "left": null,
            "margin": null,
            "max_height": null,
            "max_width": null,
            "min_height": null,
            "min_width": null,
            "object_fit": null,
            "object_position": null,
            "order": null,
            "overflow": null,
            "overflow_x": null,
            "overflow_y": null,
            "padding": null,
            "right": null,
            "top": null,
            "visibility": null,
            "width": null
          }
        },
        "a1483dfc9d984efcab1e7b87bdffce05": {
          "model_module": "@jupyter-widgets/base",
          "model_module_version": "1.2.0",
          "model_name": "LayoutModel",
          "state": {
            "_model_module": "@jupyter-widgets/base",
            "_model_module_version": "1.2.0",
            "_model_name": "LayoutModel",
            "_view_count": null,
            "_view_module": "@jupyter-widgets/base",
            "_view_module_version": "1.2.0",
            "_view_name": "LayoutView",
            "align_content": null,
            "align_items": null,
            "align_self": null,
            "border": null,
            "bottom": null,
            "display": null,
            "flex": null,
            "flex_flow": null,
            "grid_area": null,
            "grid_auto_columns": null,
            "grid_auto_flow": null,
            "grid_auto_rows": null,
            "grid_column": null,
            "grid_gap": null,
            "grid_row": null,
            "grid_template_areas": null,
            "grid_template_columns": null,
            "grid_template_rows": null,
            "height": null,
            "justify_content": null,
            "justify_items": null,
            "left": null,
            "margin": null,
            "max_height": null,
            "max_width": null,
            "min_height": null,
            "min_width": null,
            "object_fit": null,
            "object_position": null,
            "order": null,
            "overflow": null,
            "overflow_x": null,
            "overflow_y": null,
            "padding": null,
            "right": null,
            "top": null,
            "visibility": null,
            "width": null
          }
        },
        "a8f0dab642eb49f3b7d7fe71749803c8": {
          "model_module": "@jupyter-widgets/controls",
          "model_module_version": "1.5.0",
          "model_name": "ProgressStyleModel",
          "state": {
            "_model_module": "@jupyter-widgets/controls",
            "_model_module_version": "1.5.0",
            "_model_name": "ProgressStyleModel",
            "_view_count": null,
            "_view_module": "@jupyter-widgets/base",
            "_view_module_version": "1.2.0",
            "_view_name": "StyleView",
            "bar_color": null,
            "description_width": ""
          }
        },
        "a9cea9ac1bba4ab7817e325a1c375f89": {
          "model_module": "@jupyter-widgets/base",
          "model_module_version": "1.2.0",
          "model_name": "LayoutModel",
          "state": {
            "_model_module": "@jupyter-widgets/base",
            "_model_module_version": "1.2.0",
            "_model_name": "LayoutModel",
            "_view_count": null,
            "_view_module": "@jupyter-widgets/base",
            "_view_module_version": "1.2.0",
            "_view_name": "LayoutView",
            "align_content": null,
            "align_items": null,
            "align_self": null,
            "border": null,
            "bottom": null,
            "display": null,
            "flex": null,
            "flex_flow": null,
            "grid_area": null,
            "grid_auto_columns": null,
            "grid_auto_flow": null,
            "grid_auto_rows": null,
            "grid_column": null,
            "grid_gap": null,
            "grid_row": null,
            "grid_template_areas": null,
            "grid_template_columns": null,
            "grid_template_rows": null,
            "height": null,
            "justify_content": null,
            "justify_items": null,
            "left": null,
            "margin": null,
            "max_height": null,
            "max_width": null,
            "min_height": null,
            "min_width": null,
            "object_fit": null,
            "object_position": null,
            "order": null,
            "overflow": null,
            "overflow_x": null,
            "overflow_y": null,
            "padding": null,
            "right": null,
            "top": null,
            "visibility": null,
            "width": null
          }
        },
        "aee500c302be4485ad12d9c423332eb0": {
          "model_module": "@jupyter-widgets/controls",
          "model_module_version": "1.5.0",
          "model_name": "ProgressStyleModel",
          "state": {
            "_model_module": "@jupyter-widgets/controls",
            "_model_module_version": "1.5.0",
            "_model_name": "ProgressStyleModel",
            "_view_count": null,
            "_view_module": "@jupyter-widgets/base",
            "_view_module_version": "1.2.0",
            "_view_name": "StyleView",
            "bar_color": null,
            "description_width": ""
          }
        },
        "b3cfe910b14f44469fdaac75b1bfdd9a": {
          "model_module": "@jupyter-widgets/base",
          "model_module_version": "1.2.0",
          "model_name": "LayoutModel",
          "state": {
            "_model_module": "@jupyter-widgets/base",
            "_model_module_version": "1.2.0",
            "_model_name": "LayoutModel",
            "_view_count": null,
            "_view_module": "@jupyter-widgets/base",
            "_view_module_version": "1.2.0",
            "_view_name": "LayoutView",
            "align_content": null,
            "align_items": null,
            "align_self": null,
            "border": null,
            "bottom": null,
            "display": null,
            "flex": null,
            "flex_flow": null,
            "grid_area": null,
            "grid_auto_columns": null,
            "grid_auto_flow": null,
            "grid_auto_rows": null,
            "grid_column": null,
            "grid_gap": null,
            "grid_row": null,
            "grid_template_areas": null,
            "grid_template_columns": null,
            "grid_template_rows": null,
            "height": null,
            "justify_content": null,
            "justify_items": null,
            "left": null,
            "margin": null,
            "max_height": null,
            "max_width": null,
            "min_height": null,
            "min_width": null,
            "object_fit": null,
            "object_position": null,
            "order": null,
            "overflow": null,
            "overflow_x": null,
            "overflow_y": null,
            "padding": null,
            "right": null,
            "top": null,
            "visibility": null,
            "width": null
          }
        },
        "beaee9eafe0b4795be939344c2164fc6": {
          "model_module": "@jupyter-widgets/controls",
          "model_module_version": "1.5.0",
          "model_name": "FloatProgressModel",
          "state": {
            "_dom_classes": [],
            "_model_module": "@jupyter-widgets/controls",
            "_model_module_version": "1.5.0",
            "_model_name": "FloatProgressModel",
            "_view_count": null,
            "_view_module": "@jupyter-widgets/controls",
            "_view_module_version": "1.5.0",
            "_view_name": "ProgressView",
            "bar_style": "success",
            "description": "",
            "description_tooltip": null,
            "layout": "IPY_MODEL_e85b0a56c8304b8a8dbdadf243482da4",
            "max": 189,
            "min": 0,
            "orientation": "horizontal",
            "style": "IPY_MODEL_fb49aaa3334b4f7195579957c1bda3a1",
            "value": 189
          }
        },
        "bf8507eca6d143d9bf0b06ff8d01c7aa": {
          "model_module": "@jupyter-widgets/controls",
          "model_module_version": "1.5.0",
          "model_name": "DescriptionStyleModel",
          "state": {
            "_model_module": "@jupyter-widgets/controls",
            "_model_module_version": "1.5.0",
            "_model_name": "DescriptionStyleModel",
            "_view_count": null,
            "_view_module": "@jupyter-widgets/base",
            "_view_module_version": "1.2.0",
            "_view_name": "StyleView",
            "description_width": ""
          }
        },
        "c5696322673e4fcba386e7f7e163392e": {
          "model_module": "@jupyter-widgets/controls",
          "model_module_version": "1.5.0",
          "model_name": "HBoxModel",
          "state": {
            "_dom_classes": [],
            "_model_module": "@jupyter-widgets/controls",
            "_model_module_version": "1.5.0",
            "_model_name": "HBoxModel",
            "_view_count": null,
            "_view_module": "@jupyter-widgets/controls",
            "_view_module_version": "1.5.0",
            "_view_name": "HBoxView",
            "box_style": "",
            "children": [
              "IPY_MODEL_f6bae59665394e408278f3d33fa88d2d",
              "IPY_MODEL_88ce15964d8343f1a671eae52e32c02f",
              "IPY_MODEL_1a8355fa28e14dfd966c2d726972e89a"
            ],
            "layout": "IPY_MODEL_8509ee0e11354f0c9b5ef94ec4eb2726"
          }
        },
        "c5fc5d3e91bc4116b2b81a0c1ba62cf4": {
          "model_module": "@jupyter-widgets/controls",
          "model_module_version": "1.5.0",
          "model_name": "ProgressStyleModel",
          "state": {
            "_model_module": "@jupyter-widgets/controls",
            "_model_module_version": "1.5.0",
            "_model_name": "ProgressStyleModel",
            "_view_count": null,
            "_view_module": "@jupyter-widgets/base",
            "_view_module_version": "1.2.0",
            "_view_name": "StyleView",
            "bar_color": null,
            "description_width": ""
          }
        },
        "cbd568c05fe64d35ae5ba6efde2c9517": {
          "model_module": "@jupyter-widgets/base",
          "model_module_version": "1.2.0",
          "model_name": "LayoutModel",
          "state": {
            "_model_module": "@jupyter-widgets/base",
            "_model_module_version": "1.2.0",
            "_model_name": "LayoutModel",
            "_view_count": null,
            "_view_module": "@jupyter-widgets/base",
            "_view_module_version": "1.2.0",
            "_view_name": "LayoutView",
            "align_content": null,
            "align_items": null,
            "align_self": null,
            "border": null,
            "bottom": null,
            "display": null,
            "flex": null,
            "flex_flow": null,
            "grid_area": null,
            "grid_auto_columns": null,
            "grid_auto_flow": null,
            "grid_auto_rows": null,
            "grid_column": null,
            "grid_gap": null,
            "grid_row": null,
            "grid_template_areas": null,
            "grid_template_columns": null,
            "grid_template_rows": null,
            "height": null,
            "justify_content": null,
            "justify_items": null,
            "left": null,
            "margin": null,
            "max_height": null,
            "max_width": null,
            "min_height": null,
            "min_width": null,
            "object_fit": null,
            "object_position": null,
            "order": null,
            "overflow": null,
            "overflow_x": null,
            "overflow_y": null,
            "padding": null,
            "right": null,
            "top": null,
            "visibility": null,
            "width": null
          }
        },
        "d5009786cb0544d5a1f3fd98e3f31dfb": {
          "model_module": "@jupyter-widgets/base",
          "model_module_version": "1.2.0",
          "model_name": "LayoutModel",
          "state": {
            "_model_module": "@jupyter-widgets/base",
            "_model_module_version": "1.2.0",
            "_model_name": "LayoutModel",
            "_view_count": null,
            "_view_module": "@jupyter-widgets/base",
            "_view_module_version": "1.2.0",
            "_view_name": "LayoutView",
            "align_content": null,
            "align_items": null,
            "align_self": null,
            "border": null,
            "bottom": null,
            "display": null,
            "flex": null,
            "flex_flow": null,
            "grid_area": null,
            "grid_auto_columns": null,
            "grid_auto_flow": null,
            "grid_auto_rows": null,
            "grid_column": null,
            "grid_gap": null,
            "grid_row": null,
            "grid_template_areas": null,
            "grid_template_columns": null,
            "grid_template_rows": null,
            "height": null,
            "justify_content": null,
            "justify_items": null,
            "left": null,
            "margin": null,
            "max_height": null,
            "max_width": null,
            "min_height": null,
            "min_width": null,
            "object_fit": null,
            "object_position": null,
            "order": null,
            "overflow": null,
            "overflow_x": null,
            "overflow_y": null,
            "padding": null,
            "right": null,
            "top": null,
            "visibility": null,
            "width": null
          }
        },
        "d90fb4429eb647c9b4fb33b859afaf54": {
          "model_module": "@jupyter-widgets/controls",
          "model_module_version": "1.5.0",
          "model_name": "DescriptionStyleModel",
          "state": {
            "_model_module": "@jupyter-widgets/controls",
            "_model_module_version": "1.5.0",
            "_model_name": "DescriptionStyleModel",
            "_view_count": null,
            "_view_module": "@jupyter-widgets/base",
            "_view_module_version": "1.2.0",
            "_view_name": "StyleView",
            "description_width": ""
          }
        },
        "df934722c49346aea65c5d0cf74a6683": {
          "model_module": "@jupyter-widgets/controls",
          "model_module_version": "1.5.0",
          "model_name": "DescriptionStyleModel",
          "state": {
            "_model_module": "@jupyter-widgets/controls",
            "_model_module_version": "1.5.0",
            "_model_name": "DescriptionStyleModel",
            "_view_count": null,
            "_view_module": "@jupyter-widgets/base",
            "_view_module_version": "1.2.0",
            "_view_name": "StyleView",
            "description_width": ""
          }
        },
        "e38b272df1bb45c9823b9e311a2c1ca6": {
          "model_module": "@jupyter-widgets/controls",
          "model_module_version": "1.5.0",
          "model_name": "HTMLModel",
          "state": {
            "_dom_classes": [],
            "_model_module": "@jupyter-widgets/controls",
            "_model_module_version": "1.5.0",
            "_model_name": "HTMLModel",
            "_view_count": null,
            "_view_module": "@jupyter-widgets/controls",
            "_view_module_version": "1.5.0",
            "_view_name": "HTMLView",
            "description": "",
            "description_tooltip": null,
            "layout": "IPY_MODEL_fb4bd8fc422844858e8d965173845cfe",
            "placeholder": "​",
            "style": "IPY_MODEL_913c2755c0e54ba8a519787d1814988d",
            "value": "tokenizer_config.json: 100%"
          }
        },
        "e3b4195aecd5423fb62cc66e5645b1ea": {
          "model_module": "@jupyter-widgets/base",
          "model_module_version": "1.2.0",
          "model_name": "LayoutModel",
          "state": {
            "_model_module": "@jupyter-widgets/base",
            "_model_module_version": "1.2.0",
            "_model_name": "LayoutModel",
            "_view_count": null,
            "_view_module": "@jupyter-widgets/base",
            "_view_module_version": "1.2.0",
            "_view_name": "LayoutView",
            "align_content": null,
            "align_items": null,
            "align_self": null,
            "border": null,
            "bottom": null,
            "display": null,
            "flex": null,
            "flex_flow": null,
            "grid_area": null,
            "grid_auto_columns": null,
            "grid_auto_flow": null,
            "grid_auto_rows": null,
            "grid_column": null,
            "grid_gap": null,
            "grid_row": null,
            "grid_template_areas": null,
            "grid_template_columns": null,
            "grid_template_rows": null,
            "height": null,
            "justify_content": null,
            "justify_items": null,
            "left": null,
            "margin": null,
            "max_height": null,
            "max_width": null,
            "min_height": null,
            "min_width": null,
            "object_fit": null,
            "object_position": null,
            "order": null,
            "overflow": null,
            "overflow_x": null,
            "overflow_y": null,
            "padding": null,
            "right": null,
            "top": null,
            "visibility": null,
            "width": null
          }
        },
        "e85b0a56c8304b8a8dbdadf243482da4": {
          "model_module": "@jupyter-widgets/base",
          "model_module_version": "1.2.0",
          "model_name": "LayoutModel",
          "state": {
            "_model_module": "@jupyter-widgets/base",
            "_model_module_version": "1.2.0",
            "_model_name": "LayoutModel",
            "_view_count": null,
            "_view_module": "@jupyter-widgets/base",
            "_view_module_version": "1.2.0",
            "_view_name": "LayoutView",
            "align_content": null,
            "align_items": null,
            "align_self": null,
            "border": null,
            "bottom": null,
            "display": null,
            "flex": null,
            "flex_flow": null,
            "grid_area": null,
            "grid_auto_columns": null,
            "grid_auto_flow": null,
            "grid_auto_rows": null,
            "grid_column": null,
            "grid_gap": null,
            "grid_row": null,
            "grid_template_areas": null,
            "grid_template_columns": null,
            "grid_template_rows": null,
            "height": null,
            "justify_content": null,
            "justify_items": null,
            "left": null,
            "margin": null,
            "max_height": null,
            "max_width": null,
            "min_height": null,
            "min_width": null,
            "object_fit": null,
            "object_position": null,
            "order": null,
            "overflow": null,
            "overflow_x": null,
            "overflow_y": null,
            "padding": null,
            "right": null,
            "top": null,
            "visibility": null,
            "width": null
          }
        },
        "ec63c4015b7a49679cedcf18ea8ce68c": {
          "model_module": "@jupyter-widgets/base",
          "model_module_version": "1.2.0",
          "model_name": "LayoutModel",
          "state": {
            "_model_module": "@jupyter-widgets/base",
            "_model_module_version": "1.2.0",
            "_model_name": "LayoutModel",
            "_view_count": null,
            "_view_module": "@jupyter-widgets/base",
            "_view_module_version": "1.2.0",
            "_view_name": "LayoutView",
            "align_content": null,
            "align_items": null,
            "align_self": null,
            "border": null,
            "bottom": null,
            "display": null,
            "flex": null,
            "flex_flow": null,
            "grid_area": null,
            "grid_auto_columns": null,
            "grid_auto_flow": null,
            "grid_auto_rows": null,
            "grid_column": null,
            "grid_gap": null,
            "grid_row": null,
            "grid_template_areas": null,
            "grid_template_columns": null,
            "grid_template_rows": null,
            "height": null,
            "justify_content": null,
            "justify_items": null,
            "left": null,
            "margin": null,
            "max_height": null,
            "max_width": null,
            "min_height": null,
            "min_width": null,
            "object_fit": null,
            "object_position": null,
            "order": null,
            "overflow": null,
            "overflow_x": null,
            "overflow_y": null,
            "padding": null,
            "right": null,
            "top": null,
            "visibility": null,
            "width": null
          }
        },
        "f1bd1e29932248d8bf7b227e9f354854": {
          "model_module": "@jupyter-widgets/base",
          "model_module_version": "1.2.0",
          "model_name": "LayoutModel",
          "state": {
            "_model_module": "@jupyter-widgets/base",
            "_model_module_version": "1.2.0",
            "_model_name": "LayoutModel",
            "_view_count": null,
            "_view_module": "@jupyter-widgets/base",
            "_view_module_version": "1.2.0",
            "_view_name": "LayoutView",
            "align_content": null,
            "align_items": null,
            "align_self": null,
            "border": null,
            "bottom": null,
            "display": null,
            "flex": null,
            "flex_flow": null,
            "grid_area": null,
            "grid_auto_columns": null,
            "grid_auto_flow": null,
            "grid_auto_rows": null,
            "grid_column": null,
            "grid_gap": null,
            "grid_row": null,
            "grid_template_areas": null,
            "grid_template_columns": null,
            "grid_template_rows": null,
            "height": null,
            "justify_content": null,
            "justify_items": null,
            "left": null,
            "margin": null,
            "max_height": null,
            "max_width": null,
            "min_height": null,
            "min_width": null,
            "object_fit": null,
            "object_position": null,
            "order": null,
            "overflow": null,
            "overflow_x": null,
            "overflow_y": null,
            "padding": null,
            "right": null,
            "top": null,
            "visibility": null,
            "width": null
          }
        },
        "f5c9344447964924863f2f77b763bf48": {
          "model_module": "@jupyter-widgets/base",
          "model_module_version": "1.2.0",
          "model_name": "LayoutModel",
          "state": {
            "_model_module": "@jupyter-widgets/base",
            "_model_module_version": "1.2.0",
            "_model_name": "LayoutModel",
            "_view_count": null,
            "_view_module": "@jupyter-widgets/base",
            "_view_module_version": "1.2.0",
            "_view_name": "LayoutView",
            "align_content": null,
            "align_items": null,
            "align_self": null,
            "border": null,
            "bottom": null,
            "display": null,
            "flex": null,
            "flex_flow": null,
            "grid_area": null,
            "grid_auto_columns": null,
            "grid_auto_flow": null,
            "grid_auto_rows": null,
            "grid_column": null,
            "grid_gap": null,
            "grid_row": null,
            "grid_template_areas": null,
            "grid_template_columns": null,
            "grid_template_rows": null,
            "height": null,
            "justify_content": null,
            "justify_items": null,
            "left": null,
            "margin": null,
            "max_height": null,
            "max_width": null,
            "min_height": null,
            "min_width": null,
            "object_fit": null,
            "object_position": null,
            "order": null,
            "overflow": null,
            "overflow_x": null,
            "overflow_y": null,
            "padding": null,
            "right": null,
            "top": null,
            "visibility": null,
            "width": null
          }
        },
        "f6bae59665394e408278f3d33fa88d2d": {
          "model_module": "@jupyter-widgets/controls",
          "model_module_version": "1.5.0",
          "model_name": "HTMLModel",
          "state": {
            "_dom_classes": [],
            "_model_module": "@jupyter-widgets/controls",
            "_model_module_version": "1.5.0",
            "_model_name": "HTMLModel",
            "_view_count": null,
            "_view_module": "@jupyter-widgets/controls",
            "_view_module_version": "1.5.0",
            "_view_name": "HTMLView",
            "description": "",
            "description_tooltip": null,
            "layout": "IPY_MODEL_f7605bfc94594f859e6cac0db4567992",
            "placeholder": "​",
            "style": "IPY_MODEL_00f12498542b42d0810e34c182680641",
            "value": "config.json: 100%"
          }
        },
        "f7605bfc94594f859e6cac0db4567992": {
          "model_module": "@jupyter-widgets/base",
          "model_module_version": "1.2.0",
          "model_name": "LayoutModel",
          "state": {
            "_model_module": "@jupyter-widgets/base",
            "_model_module_version": "1.2.0",
            "_model_name": "LayoutModel",
            "_view_count": null,
            "_view_module": "@jupyter-widgets/base",
            "_view_module_version": "1.2.0",
            "_view_name": "LayoutView",
            "align_content": null,
            "align_items": null,
            "align_self": null,
            "border": null,
            "bottom": null,
            "display": null,
            "flex": null,
            "flex_flow": null,
            "grid_area": null,
            "grid_auto_columns": null,
            "grid_auto_flow": null,
            "grid_auto_rows": null,
            "grid_column": null,
            "grid_gap": null,
            "grid_row": null,
            "grid_template_areas": null,
            "grid_template_columns": null,
            "grid_template_rows": null,
            "height": null,
            "justify_content": null,
            "justify_items": null,
            "left": null,
            "margin": null,
            "max_height": null,
            "max_width": null,
            "min_height": null,
            "min_width": null,
            "object_fit": null,
            "object_position": null,
            "order": null,
            "overflow": null,
            "overflow_x": null,
            "overflow_y": null,
            "padding": null,
            "right": null,
            "top": null,
            "visibility": null,
            "width": null
          }
        },
        "fb49aaa3334b4f7195579957c1bda3a1": {
          "model_module": "@jupyter-widgets/controls",
          "model_module_version": "1.5.0",
          "model_name": "ProgressStyleModel",
          "state": {
            "_model_module": "@jupyter-widgets/controls",
            "_model_module_version": "1.5.0",
            "_model_name": "ProgressStyleModel",
            "_view_count": null,
            "_view_module": "@jupyter-widgets/base",
            "_view_module_version": "1.2.0",
            "_view_name": "StyleView",
            "bar_color": null,
            "description_width": ""
          }
        },
        "fb4bd8fc422844858e8d965173845cfe": {
          "model_module": "@jupyter-widgets/base",
          "model_module_version": "1.2.0",
          "model_name": "LayoutModel",
          "state": {
            "_model_module": "@jupyter-widgets/base",
            "_model_module_version": "1.2.0",
            "_model_name": "LayoutModel",
            "_view_count": null,
            "_view_module": "@jupyter-widgets/base",
            "_view_module_version": "1.2.0",
            "_view_name": "LayoutView",
            "align_content": null,
            "align_items": null,
            "align_self": null,
            "border": null,
            "bottom": null,
            "display": null,
            "flex": null,
            "flex_flow": null,
            "grid_area": null,
            "grid_auto_columns": null,
            "grid_auto_flow": null,
            "grid_auto_rows": null,
            "grid_column": null,
            "grid_gap": null,
            "grid_row": null,
            "grid_template_areas": null,
            "grid_template_columns": null,
            "grid_template_rows": null,
            "height": null,
            "justify_content": null,
            "justify_items": null,
            "left": null,
            "margin": null,
            "max_height": null,
            "max_width": null,
            "min_height": null,
            "min_width": null,
            "object_fit": null,
            "object_position": null,
            "order": null,
            "overflow": null,
            "overflow_x": null,
            "overflow_y": null,
            "padding": null,
            "right": null,
            "top": null,
            "visibility": null,
            "width": null
          }
        }
      }
    }
  },
  "nbformat": 4,
  "nbformat_minor": 5
}
